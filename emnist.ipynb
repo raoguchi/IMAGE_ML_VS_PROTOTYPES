{
 "cells": [
  {
   "cell_type": "code",
   "execution_count": 25,
   "metadata": {},
   "outputs": [],
   "source": [
    "import numpy as np\n",
    "import struct\n",
    "import matplotlib.pyplot as plt\n",
    "from scipy.spatial.distance import cdist\n",
    "import pandas as pd\n",
    "import seaborn as sns\n",
    "import torch\n",
    "import torchvision\n",
    "import torchvision.transforms as transforms\n",
    "from torch.utils.data import DataLoader, Subset\n",
    "from collections import Counter\n",
    "import os\n",
    "import torchvision.transforms.functional as TF"
   ]
  },
  {
   "cell_type": "markdown",
   "metadata": {},
   "source": [
    "# Random Prototyping"
   ]
  },
  {
   "cell_type": "code",
   "execution_count": 40,
   "metadata": {},
   "outputs": [
    {
     "name": "stdout",
     "output_type": "stream",
     "text": [
      "Using device: cpu\n"
     ]
    }
   ],
   "source": [
    "# Check for GPU\n",
    "device = torch.device(\"cuda\" if torch.cuda.is_available() else \"cpu\")\n",
    "print(f\"Using device: {device}\")\n",
    "\n",
    "# Load MNIST dataset\n",
    "transform = transforms.Compose([transforms.ToTensor(), transforms.Lambda(lambda x: TF.rotate(x, -90)), transforms.Lambda(lambda x: TF.hflip(x)), transforms.Normalize((0.1307,), (0.3081,))])\n",
    "\n",
    "train_set = torchvision.datasets.EMNIST(root='./data', split='byclass', train=True, download=False, transform=transform)\n",
    "test_set = torchvision.datasets.EMNIST(root='./data', split='byclass', train=False, download=False, transform=transform)\n",
    "\n",
    "# Convert dataset to DataLoader (load all at once)\n",
    "train_loader = torch.utils.data.DataLoader(train_set, batch_size=len(train_set), shuffle=False)\n",
    "test_loader = torch.utils.data.DataLoader(test_set, batch_size=len(test_set), shuffle=False)\n",
    "\n",
    "# Extract train and test data\n",
    "train_data, train_labels = next(iter(train_loader))\n",
    "test_data, test_labels = next(iter(test_loader))\n",
    "\n",
    "# Flatten images from (N, 1, 28, 28) -> (N, 784)\n",
    "train_data = train_data.view(train_data.shape[0], -1).to(device)  # (60000, 784)\n",
    "test_data = test_data.view(test_data.shape[0], -1).to(device)  # (10000, 784)\n",
    "\n",
    "train_labels = train_labels.to(device)\n",
    "test_labels = test_labels.to(device)"
   ]
  },
  {
   "cell_type": "code",
   "execution_count": 41,
   "metadata": {},
   "outputs": [],
   "source": [
    "mapping_path = './data/EMNIST/raw/emnist-byclass-mapping.txt'\n",
    "mapping = pd.read_csv(mapping_path, delimiter=' ', header=None, index_col=0)\n",
    "label_to_char = {index: chr(row[1]) for index, row in mapping.iterrows()}\n",
    "train_labels = [label_to_char[label.item()] for label in train_labels]\n",
    "test_labels = [label_to_char[label.item()] for label in test_labels]"
   ]
  },
  {
   "cell_type": "code",
   "execution_count": 42,
   "metadata": {},
   "outputs": [
    {
     "data": {
      "image/png": "[encoded data removed]",
      "text/plain": [
       "<Figure size 640x480 with 1 Axes>"
      ]
     },
     "metadata": {},
     "output_type": "display_data"
    }
   ],
   "source": [
    "img, label = train_data[900], train_labels[900]  # Get first image & label\n",
    "plt.imshow(img.view(28,28), cmap=\"gray\")\n",
    "plt.title(f\"Label: {label}\")\n",
    "plt.show()"
   ]
  }
 ],
 "metadata": {
  "kernelspec": {
   "display_name": "base",
   "language": "python",
   "name": "python3"
  },
  "language_info": {
   "codemirror_mode": {
    "name": "ipython",
    "version": 3
   },
   "file_extension": ".py",
   "mimetype": "text/x-python",
   "name": "python",
   "nbconvert_exporter": "python",
   "pygments_lexer": "ipython3",
   "version": "3.11.9"
  }
 },
 "nbformat": 4,
 "nbformat_minor": 2
}
