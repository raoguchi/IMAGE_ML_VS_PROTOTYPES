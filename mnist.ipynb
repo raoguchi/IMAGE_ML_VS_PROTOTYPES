{
 "cells": [
  {
   "cell_type": "code",
   "execution_count": 81,
   "metadata": {},
   "outputs": [],
   "source": [
    "import numpy as np\n",
    "import struct\n",
    "import matplotlib.pyplot as plt\n",
    "from scipy.spatial.distance import cdist\n",
    "import pandas as pd\n",
    "import seaborn as sns\n",
    "import torch\n",
    "import torchvision\n",
    "import torchvision.transforms as transforms\n",
    "from torch.utils.data import DataLoader, Subset\n",
    "from collections import Counter"
   ]
  },
  {
   "cell_type": "markdown",
   "metadata": {},
   "source": [
    "# Random Prototyping"
   ]
  },
  {
   "cell_type": "code",
   "execution_count": 50,
   "metadata": {},
   "outputs": [
    {
     "name": "stdout",
     "output_type": "stream",
     "text": [
      "Using device: cpu\n"
     ]
    }
   ],
   "source": [
    "# Check for GPU\n",
    "device = torch.device(\"cuda\" if torch.cuda.is_available() else \"cpu\")\n",
    "print(f\"Using device: {device}\")\n",
    "\n",
    "# Load MNIST dataset\n",
    "transform = transforms.Compose([transforms.ToTensor(), transforms.Normalize((0.1307,), (0.3081,))])\n",
    "\n",
    "train_set = torchvision.datasets.MNIST(root='./data', train=True, download=True, transform=transform)\n",
    "test_set = torchvision.datasets.MNIST(root='./data', train=False, download=True, transform=transform)\n",
    "\n",
    "# Convert dataset to DataLoader (load all at once)\n",
    "train_loader = torch.utils.data.DataLoader(train_set, batch_size=len(train_set), shuffle=False)\n",
    "test_loader = torch.utils.data.DataLoader(test_set, batch_size=len(test_set), shuffle=False)\n",
    "\n",
    "# Extract train and test data\n",
    "train_data, train_labels = next(iter(train_loader))\n",
    "test_data, test_labels = next(iter(test_loader))\n",
    "\n",
    "# Flatten images from (N, 1, 28, 28) -> (N, 784)\n",
    "train_data = train_data.view(train_data.shape[0], -1).to(device)  # (60000, 784)\n",
    "test_data = test_data.view(test_data.shape[0], -1).to(device)  # (10000, 784)\n",
    "\n",
    "train_labels = train_labels.to(device)\n",
    "test_labels = test_labels.to(device)"
   ]
  },
  {
   "cell_type": "code",
   "execution_count": 39,
   "metadata": {},
   "outputs": [],
   "source": [
    "num_subsets = np.array([10000, 5000, 1000])"
   ]
  },
  {
   "cell_type": "code",
   "execution_count": 62,
   "metadata": {},
   "outputs": [],
   "source": [
    "def compute_accuracy(test_data, prototype_data, prototype_labels, k=1):\n",
    "    # Compute full pairwise distance matrix in one go\n",
    "    print(\"Computing full distance matrix...\")\n",
    "    distances = torch.cdist(test_data, prototype_data)  # Shape: (10000, 60000)\n",
    "\n",
    "    # Get indices of k nearest neighbors\n",
    "    k_indices = torch.topk(distances, k, largest=False).indices  # Shape: (10000, k)\n",
    "\n",
    "    # Retrieve the k nearest labels\n",
    "    k_labels = prototype_labels[k_indices]  # Shape: (10000, k)\n",
    "\n",
    "    # Majority voting for prediction\n",
    "    pred_labels = torch.mode(k_labels, dim=1).values  # Shape: (10000,)\n",
    "\n",
    "    # Compute accuracy\n",
    "    accuracy = (pred_labels == test_labels).float().mean().item()\n",
    "    print(f'k-NN accuracy on full test set (no batching): {accuracy:.4f}')\n",
    "    return accuracy"
   ]
  },
  {
   "cell_type": "code",
   "execution_count": 63,
   "metadata": {},
   "outputs": [
    {
     "name": "stdout",
     "output_type": "stream",
     "text": [
      "Computing full distance matrix...\n",
      "k-NN accuracy on full test set (no batching): 0.9517\n",
      "Computing full distance matrix...\n",
      "k-NN accuracy on full test set (no batching): 0.9477\n",
      "Computing full distance matrix...\n",
      "k-NN accuracy on full test set (no batching): 0.9451\n",
      "Computing full distance matrix...\n",
      "k-NN accuracy on full test set (no batching): 0.9489\n",
      "Computing full distance matrix...\n",
      "k-NN accuracy on full test set (no batching): 0.9489\n",
      "Computing full distance matrix...\n",
      "k-NN accuracy on full test set (no batching): 0.9499\n",
      "Computing full distance matrix...\n",
      "k-NN accuracy on full test set (no batching): 0.9478\n",
      "Computing full distance matrix...\n",
      "k-NN accuracy on full test set (no batching): 0.9493\n",
      "Computing full distance matrix...\n",
      "k-NN accuracy on full test set (no batching): 0.9488\n",
      "Computing full distance matrix...\n",
      "k-NN accuracy on full test set (no batching): 0.9475\n",
      "Computing full distance matrix...\n",
      "k-NN accuracy on full test set (no batching): 0.9503\n",
      "Computing full distance matrix...\n",
      "k-NN accuracy on full test set (no batching): 0.9485\n",
      "Computing full distance matrix...\n",
      "k-NN accuracy on full test set (no batching): 0.9459\n",
      "Computing full distance matrix...\n",
      "k-NN accuracy on full test set (no batching): 0.9510\n",
      "Computing full distance matrix...\n",
      "k-NN accuracy on full test set (no batching): 0.9488\n",
      "Computing full distance matrix...\n",
      "k-NN accuracy on full test set (no batching): 0.9479\n",
      "Computing full distance matrix...\n",
      "k-NN accuracy on full test set (no batching): 0.9493\n",
      "Computing full distance matrix...\n",
      "k-NN accuracy on full test set (no batching): 0.9492\n",
      "Computing full distance matrix...\n",
      "k-NN accuracy on full test set (no batching): 0.9508\n",
      "Computing full distance matrix...\n",
      "k-NN accuracy on full test set (no batching): 0.9477\n",
      "Computing full distance matrix...\n",
      "k-NN accuracy on full test set (no batching): 0.9509\n",
      "Computing full distance matrix...\n",
      "k-NN accuracy on full test set (no batching): 0.9505\n",
      "Computing full distance matrix...\n",
      "k-NN accuracy on full test set (no batching): 0.9523\n",
      "Computing full distance matrix...\n",
      "k-NN accuracy on full test set (no batching): 0.9497\n",
      "Computing full distance matrix...\n",
      "k-NN accuracy on full test set (no batching): 0.9474\n",
      "Computing full distance matrix...\n",
      "k-NN accuracy on full test set (no batching): 0.9516\n",
      "Computing full distance matrix...\n",
      "k-NN accuracy on full test set (no batching): 0.9492\n",
      "Computing full distance matrix...\n",
      "k-NN accuracy on full test set (no batching): 0.9462\n",
      "Computing full distance matrix...\n",
      "k-NN accuracy on full test set (no batching): 0.9486\n",
      "Computing full distance matrix...\n",
      "k-NN accuracy on full test set (no batching): 0.9463\n",
      "Computing full distance matrix...\n",
      "k-NN accuracy on full test set (no batching): 0.9350\n",
      "Computing full distance matrix...\n",
      "k-NN accuracy on full test set (no batching): 0.9335\n",
      "Computing full distance matrix...\n",
      "k-NN accuracy on full test set (no batching): 0.9364\n",
      "Computing full distance matrix...\n",
      "k-NN accuracy on full test set (no batching): 0.9334\n",
      "Computing full distance matrix...\n",
      "k-NN accuracy on full test set (no batching): 0.9374\n",
      "Computing full distance matrix...\n",
      "k-NN accuracy on full test set (no batching): 0.9357\n",
      "Computing full distance matrix...\n",
      "k-NN accuracy on full test set (no batching): 0.9376\n",
      "Computing full distance matrix...\n",
      "k-NN accuracy on full test set (no batching): 0.9336\n",
      "Computing full distance matrix...\n",
      "k-NN accuracy on full test set (no batching): 0.9358\n",
      "Computing full distance matrix...\n",
      "k-NN accuracy on full test set (no batching): 0.9357\n",
      "Computing full distance matrix...\n",
      "k-NN accuracy on full test set (no batching): 0.9362\n",
      "Computing full distance matrix...\n",
      "k-NN accuracy on full test set (no batching): 0.9369\n",
      "Computing full distance matrix...\n",
      "k-NN accuracy on full test set (no batching): 0.9352\n",
      "Computing full distance matrix...\n",
      "k-NN accuracy on full test set (no batching): 0.9351\n",
      "Computing full distance matrix...\n",
      "k-NN accuracy on full test set (no batching): 0.9360\n",
      "Computing full distance matrix...\n",
      "k-NN accuracy on full test set (no batching): 0.9339\n",
      "Computing full distance matrix...\n",
      "k-NN accuracy on full test set (no batching): 0.9375\n",
      "Computing full distance matrix...\n",
      "k-NN accuracy on full test set (no batching): 0.9351\n",
      "Computing full distance matrix...\n",
      "k-NN accuracy on full test set (no batching): 0.9368\n",
      "Computing full distance matrix...\n",
      "k-NN accuracy on full test set (no batching): 0.9335\n",
      "Computing full distance matrix...\n",
      "k-NN accuracy on full test set (no batching): 0.9328\n",
      "Computing full distance matrix...\n",
      "k-NN accuracy on full test set (no batching): 0.9359\n",
      "Computing full distance matrix...\n",
      "k-NN accuracy on full test set (no batching): 0.9336\n",
      "Computing full distance matrix...\n",
      "k-NN accuracy on full test set (no batching): 0.9339\n",
      "Computing full distance matrix...\n",
      "k-NN accuracy on full test set (no batching): 0.9334\n",
      "Computing full distance matrix...\n",
      "k-NN accuracy on full test set (no batching): 0.9394\n",
      "Computing full distance matrix...\n",
      "k-NN accuracy on full test set (no batching): 0.9380\n",
      "Computing full distance matrix...\n",
      "k-NN accuracy on full test set (no batching): 0.9360\n",
      "Computing full distance matrix...\n",
      "k-NN accuracy on full test set (no batching): 0.9375\n",
      "Computing full distance matrix...\n",
      "k-NN accuracy on full test set (no batching): 0.9385\n",
      "Computing full distance matrix...\n",
      "k-NN accuracy on full test set (no batching): 0.8853\n",
      "Computing full distance matrix...\n",
      "k-NN accuracy on full test set (no batching): 0.8902\n",
      "Computing full distance matrix...\n",
      "k-NN accuracy on full test set (no batching): 0.8826\n",
      "Computing full distance matrix...\n",
      "k-NN accuracy on full test set (no batching): 0.8852\n",
      "Computing full distance matrix...\n",
      "k-NN accuracy on full test set (no batching): 0.8892\n",
      "Computing full distance matrix...\n",
      "k-NN accuracy on full test set (no batching): 0.8846\n",
      "Computing full distance matrix...\n",
      "k-NN accuracy on full test set (no batching): 0.8863\n",
      "Computing full distance matrix...\n",
      "k-NN accuracy on full test set (no batching): 0.8772\n",
      "Computing full distance matrix...\n",
      "k-NN accuracy on full test set (no batching): 0.8887\n",
      "Computing full distance matrix...\n",
      "k-NN accuracy on full test set (no batching): 0.8774\n",
      "Computing full distance matrix...\n",
      "k-NN accuracy on full test set (no batching): 0.8897\n",
      "Computing full distance matrix...\n",
      "k-NN accuracy on full test set (no batching): 0.8869\n",
      "Computing full distance matrix...\n",
      "k-NN accuracy on full test set (no batching): 0.8827\n",
      "Computing full distance matrix...\n",
      "k-NN accuracy on full test set (no batching): 0.8862\n",
      "Computing full distance matrix...\n",
      "k-NN accuracy on full test set (no batching): 0.8844\n",
      "Computing full distance matrix...\n",
      "k-NN accuracy on full test set (no batching): 0.8777\n",
      "Computing full distance matrix...\n",
      "k-NN accuracy on full test set (no batching): 0.8812\n",
      "Computing full distance matrix...\n",
      "k-NN accuracy on full test set (no batching): 0.8851\n",
      "Computing full distance matrix...\n",
      "k-NN accuracy on full test set (no batching): 0.8863\n",
      "Computing full distance matrix...\n",
      "k-NN accuracy on full test set (no batching): 0.8842\n",
      "Computing full distance matrix...\n",
      "k-NN accuracy on full test set (no batching): 0.8887\n",
      "Computing full distance matrix...\n",
      "k-NN accuracy on full test set (no batching): 0.8870\n",
      "Computing full distance matrix...\n",
      "k-NN accuracy on full test set (no batching): 0.8739\n",
      "Computing full distance matrix...\n",
      "k-NN accuracy on full test set (no batching): 0.8820\n",
      "Computing full distance matrix...\n",
      "k-NN accuracy on full test set (no batching): 0.8849\n",
      "Computing full distance matrix...\n",
      "k-NN accuracy on full test set (no batching): 0.8702\n",
      "Computing full distance matrix...\n",
      "k-NN accuracy on full test set (no batching): 0.8821\n",
      "Computing full distance matrix...\n",
      "k-NN accuracy on full test set (no batching): 0.8846\n",
      "Computing full distance matrix...\n",
      "k-NN accuracy on full test set (no batching): 0.8847\n",
      "Computing full distance matrix...\n",
      "k-NN accuracy on full test set (no batching): 0.8812\n"
     ]
    }
   ],
   "source": [
    "accuracy_dict = {}\n",
    "for subset in num_subsets:\n",
    "    accuracy_list = []\n",
    "    for _ in range(30):\n",
    "        random_indicies = torch.randperm(train_data.shape[0])[:subset]\n",
    "        prototype_train_data = train_data[random_indicies]\n",
    "        prototype_train_labels = train_labels[random_indicies]\n",
    "        accuracy = compute_accuracy(test_data, prototype_train_data, prototype_train_labels)\n",
    "        accuracy_list.append(accuracy)\n",
    "    accuracy_dict[subset] = accuracy_list"
   ]
  },
  {
   "cell_type": "code",
   "execution_count": 67,
   "metadata": {},
   "outputs": [],
   "source": [
    "accuracy_df = pd.DataFrame(accuracy_dict)"
   ]
  },
  {
   "cell_type": "code",
   "execution_count": 68,
   "metadata": {},
   "outputs": [
    {
     "data": {
      "text/plain": [
       "10000    0.948923\n",
       "5000     0.935643\n",
       "1000     0.883680\n",
       "dtype: float64"
      ]
     },
     "execution_count": 68,
     "metadata": {},
     "output_type": "execute_result"
    }
   ],
   "source": [
    "accuracy_df.mean()"
   ]
  },
  {
   "cell_type": "code",
   "execution_count": 70,
   "metadata": {},
   "outputs": [
    {
     "data": {
      "text/plain": [
       "10000    0.001785\n",
       "5000     0.001749\n",
       "1000     0.004651\n",
       "dtype: float64"
      ]
     },
     "execution_count": 70,
     "metadata": {},
     "output_type": "execute_result"
    }
   ],
   "source": [
    "accuracy_df.std(ddof=1)"
   ]
  },
  {
   "cell_type": "markdown",
   "metadata": {},
   "source": [
    "# K Means"
   ]
  },
  {
   "cell_type": "markdown",
   "metadata": {},
   "source": [
    "## K Means"
   ]
  },
  {
   "cell_type": "markdown",
   "metadata": {},
   "source": [
    "### Base Functions"
   ]
  },
  {
   "cell_type": "code",
   "execution_count": 104,
   "metadata": {},
   "outputs": [],
   "source": [
    "# Perform K-Means clustering\n",
    "def kmeans(X, k, num_iters=100, tol=1e-4):\n",
    "    \"\"\"\n",
    "    Runs K-Means clustering on tensor X.\n",
    "    \n",
    "    Args:\n",
    "    - X (Tensor): Data points of shape (N, D)\n",
    "    - k (int): Number of clusters\n",
    "    - num_iters (int): Maximum number of iterations\n",
    "    - tol (float): Tolerance for convergence\n",
    "    \n",
    "    Returns:\n",
    "    - cluster_assignments (Tensor): Cluster labels for each point\n",
    "    - centroids (Tensor): Final cluster centroids\n",
    "    \"\"\"\n",
    "    N, D = X.shape\n",
    "    device = X.device\n",
    "\n",
    "    # 1️⃣ Randomly initialize centroids\n",
    "    indices = torch.randperm(N)[:k]  \n",
    "    centroids = X[indices]  # (k, D)\n",
    "\n",
    "    for i in range(num_iters):\n",
    "        # 2️⃣ Compute distances to centroids\n",
    "        distances = torch.cdist(X, centroids)  # (N, k)\n",
    "\n",
    "        # 3️⃣ Assign each point to the nearest centroid\n",
    "        cluster_assignments = torch.argmin(distances, dim=1)  # (N,)\n",
    "\n",
    "        # 4️⃣ Compute new centroids\n",
    "        new_centroids = torch.stack([X[cluster_assignments == c].mean(dim=0) for c in range(k)])\n",
    "\n",
    "        # 5️⃣ Check for convergence\n",
    "        if torch.allclose(new_centroids, centroids, atol=tol):\n",
    "            print(f'Converged at iteration {i}')\n",
    "            break\n",
    "        centroids = new_centroids\n",
    "\n",
    "    return cluster_assignments, centroids\n",
    "\n",
    "# Function to assign labels to centroids\n",
    "def assign_labels(cluster_labels, y_true, k):\n",
    "    \"\"\"\n",
    "    Assigns a label to each K-Means cluster using majority voting.\n",
    "    \n",
    "    Args:\n",
    "    - cluster_labels (Tensor): Cluster assignments for each point\n",
    "    - y_true (Tensor): True MNIST labels\n",
    "    - k (int): Number of clusters\n",
    "\n",
    "    Returns:\n",
    "    - cluster_to_label (list): List where index `i` corresponds to cluster `i`'s assigned label\n",
    "    \"\"\"\n",
    "    cluster_to_label = [-1] * k  # Initialize list with -1 for empty clusters\n",
    "\n",
    "    for cluster in range(k):\n",
    "        # Get all true labels for this cluster\n",
    "        cluster_indices = (cluster_labels == cluster).nonzero(as_tuple=True)[0]\n",
    "        true_labels = y_true[cluster_indices]\n",
    "\n",
    "        # Find the most common label in this cluster\n",
    "        if len(true_labels) > 0:\n",
    "            most_common_label = Counter(true_labels.tolist()).most_common(1)[0][0]\n",
    "            cluster_to_label[cluster] = most_common_label\n",
    "\n",
    "    return cluster_to_label\n"
   ]
  },
  {
   "cell_type": "markdown",
   "metadata": {},
   "source": [
    "### Create Centroids"
   ]
  },
  {
   "cell_type": "code",
   "execution_count": 105,
   "metadata": {},
   "outputs": [
    {
     "name": "stdout",
     "output_type": "stream",
     "text": [
      "Converged at iteration 10\n",
      "Converged at iteration 17\n",
      "Converged at iteration 51\n"
     ]
    }
   ],
   "source": [
    "for subset in num_subsets:\n",
    "    cluster_labels, centroids = kmeans(train_data, subset)\n",
    "    cluster_to_label = assign_labels(cluster_labels, train_labels, subset)\n",
    "    torch.save(centroids, f\"mnist_kmeans_centroids_{subset}.pth\")\n",
    "    torch.save(cluster_to_label, f\"mnist_kmeans_cluster_labels_{subset}.pth\")"
   ]
  },
  {
   "cell_type": "markdown",
   "metadata": {},
   "source": [
    "### Make Predictions"
   ]
  },
  {
   "cell_type": "code",
   "execution_count": 123,
   "metadata": {},
   "outputs": [
    {
     "name": "stdout",
     "output_type": "stream",
     "text": [
      "Computing full distance matrix...\n",
      "k-NN accuracy on full test set (no batching): 0.9594\n",
      "Computing full distance matrix...\n",
      "k-NN accuracy on full test set (no batching): 0.9560\n",
      "Computing full distance matrix...\n",
      "k-NN accuracy on full test set (no batching): 0.9408\n"
     ]
    }
   ],
   "source": [
    "accuracy_dict_kmeans = {}\n",
    "\n",
    "for subset in num_subsets:\n",
    "    prototype_train_data = torch.load(f\"mnist_kmeans_centroids_{subset}.pth\", weights_only=False)\n",
    "    prototype_train_labels = torch.tensor(torch.load(f\"mnist_kmeans_cluster_labels_{subset}.pth\", weights_only=False))\n",
    "    accuracy = compute_accuracy(test_data, prototype_train_data, prototype_train_labels)\n",
    "    accuracy_dict_kmeans[subset] = [accuracy]"
   ]
  },
  {
   "cell_type": "code",
   "execution_count": 124,
   "metadata": {},
   "outputs": [
    {
     "data": {
      "text/html": [
       "<div>\n",
       "<style scoped>\n",
       "    .dataframe tbody tr th:only-of-type {\n",
       "        vertical-align: middle;\n",
       "    }\n",
       "\n",
       "    .dataframe tbody tr th {\n",
       "        vertical-align: top;\n",
       "    }\n",
       "\n",
       "    .dataframe thead th {\n",
       "        text-align: right;\n",
       "    }\n",
       "</style>\n",
       "<table border=\"1\" class=\"dataframe\">\n",
       "  <thead>\n",
       "    <tr style=\"text-align: right;\">\n",
       "      <th></th>\n",
       "      <th>10000</th>\n",
       "      <th>5000</th>\n",
       "      <th>1000</th>\n",
       "    </tr>\n",
       "  </thead>\n",
       "  <tbody>\n",
       "    <tr>\n",
       "      <th>0</th>\n",
       "      <td>0.9594</td>\n",
       "      <td>0.956</td>\n",
       "      <td>0.9408</td>\n",
       "    </tr>\n",
       "  </tbody>\n",
       "</table>\n",
       "</div>"
      ],
      "text/plain": [
       "    10000  5000    1000 \n",
       "0  0.9594  0.956  0.9408"
      ]
     },
     "execution_count": 124,
     "metadata": {},
     "output_type": "execute_result"
    }
   ],
   "source": [
    "accuracy_df_kmeans = pd.DataFrame(accuracy_dict_kmeans)\n",
    "accuracy_df_kmeans"
   ]
  },
  {
   "cell_type": "markdown",
   "metadata": {},
   "source": [
    "## K Means ++"
   ]
  },
  {
   "cell_type": "markdown",
   "metadata": {},
   "source": [
    "### Base Functions"
   ]
  },
  {
   "cell_type": "code",
   "execution_count": null,
   "metadata": {},
   "outputs": [],
   "source": [
    "def kmeans_plusplus(X, k):\n",
    "    \"\"\"\n",
    "    Initializes centroids using the K-Means++ algorithm.\n",
    "    \n",
    "    Args:\n",
    "    - X (Tensor): Data points of shape (N, D)\n",
    "    - k (int): Number of clusters\n",
    "    \n",
    "    Returns:\n",
    "    - centroids (Tensor): Initialized centroids of shape (k, D)\n",
    "    \"\"\"\n",
    "    N, D = X.shape\n",
    "    device = X.device\n",
    "    centroids = torch.empty((k, D), device=device)  # To store k centroids\n",
    "\n",
    "    # 1️⃣ Select first centroid randomly\n",
    "    first_idx = torch.randint(0, N, (1,))\n",
    "    centroids[0] = X[first_idx]\n",
    "\n",
    "    # 2️⃣ Select remaining centroids using distance-based probability\n",
    "    for i in range(1, k):\n",
    "        distances = torch.cdist(X, centroids[:i]).min(dim=1).values ** 2\n",
    "        probabilities = distances / distances.sum()  # Normalize to probabilities\n",
    "        next_idx = torch.multinomial(probabilities, 1)  # Sample next centroid\n",
    "        centroids[i] = X[next_idx]\n",
    "\n",
    "    return centroids\n",
    "\n",
    "def kmeans(X, k, num_iters=100, tol=1e-4):\n",
    "    \"\"\"\n",
    "    Performs K-Means clustering with K-Means++ initialization.\n",
    "    \n",
    "    Args:\n",
    "    - X (Tensor): Data points of shape (N, D)\n",
    "    - k (int): Number of clusters\n",
    "    - num_iters (int): Number of iterations\n",
    "    - tol (float): Tolerance for convergence\n",
    "    \n",
    "    Returns:\n",
    "    - cluster_assignments (Tensor): Cluster indices for each point\n",
    "    - centroids (Tensor): Final cluster centroids\n",
    "    \"\"\"\n",
    "    N, D = X.shape\n",
    "    device = X.device\n",
    "\n",
    "    # Initialize centroids using K-Means++\n",
    "    centroids = kmeans_plusplus(X, k)\n",
    "\n",
    "    for _ in range(num_iters):\n",
    "        # Compute distances from each point to each centroid\n",
    "        distances = torch.cdist(X, centroids)  # (N, k)\n",
    "\n",
    "        # Assign each point to the nearest centroid\n",
    "        cluster_assignments = torch.argmin(distances, dim=1)  # (N,)\n",
    "\n",
    "        # Compute new centroids\n",
    "        new_centroids = torch.stack([X[cluster_assignments == c].mean(dim=0) for c in range(k)])\n",
    "\n",
    "        # Check for convergence (if centroids change very little)\n",
    "        if torch.allclose(new_centroids, centroids, atol=tol):\n",
    "            print(\"Converged early!\")\n",
    "            break\n",
    "\n",
    "        centroids = new_centroids\n",
    "\n",
    "    return cluster_assignments, centroids\n"
   ]
  },
  {
   "cell_type": "markdown",
   "metadata": {},
   "source": [
    "### Create Centroids"
   ]
  },
  {
   "cell_type": "code",
   "execution_count": 128,
   "metadata": {},
   "outputs": [
    {
     "name": "stdout",
     "output_type": "stream",
     "text": [
      "Converged early!\n",
      "Converged early!\n",
      "Converged early!\n"
     ]
    }
   ],
   "source": [
    "for subset in num_subsets:\n",
    "    cluster_labels, centroids = kmeans(train_data, subset)\n",
    "    cluster_to_label = assign_labels(cluster_labels, train_labels, subset)\n",
    "    torch.save(centroids, f\"mnist_kmeans_plus_centroids_{subset}.pth\")\n",
    "    torch.save(cluster_to_label, f\"mnist_kmeans_plus_cluster_labels_{subset}.pth\")"
   ]
  },
  {
   "cell_type": "markdown",
   "metadata": {},
   "source": [
    "### Make Predictions"
   ]
  },
  {
   "cell_type": "code",
   "execution_count": 131,
   "metadata": {},
   "outputs": [
    {
     "name": "stdout",
     "output_type": "stream",
     "text": [
      "Computing full distance matrix...\n",
      "k-NN accuracy on full test set (no batching): 0.9606\n",
      "Computing full distance matrix...\n",
      "k-NN accuracy on full test set (no batching): 0.9583\n",
      "Computing full distance matrix...\n",
      "k-NN accuracy on full test set (no batching): 0.9427\n"
     ]
    }
   ],
   "source": [
    "accuracy_dict_kmeans_plus = {}\n",
    "\n",
    "for subset in num_subsets:\n",
    "    prototype_train_data = torch.load(f\"mnist_kmeans_plus_centroids_{subset}.pth\", weights_only=False)\n",
    "    prototype_train_labels = torch.tensor(torch.load(f\"mnist_kmeans_plus_cluster_labels_{subset}.pth\", weights_only=False))\n",
    "    accuracy = compute_accuracy(test_data, prototype_train_data, prototype_train_labels)\n",
    "    accuracy_dict_kmeans_plus[subset] = [accuracy]"
   ]
  },
  {
   "cell_type": "code",
   "execution_count": 132,
   "metadata": {},
   "outputs": [
    {
     "data": {
      "text/html": [
       "<div>\n",
       "<style scoped>\n",
       "    .dataframe tbody tr th:only-of-type {\n",
       "        vertical-align: middle;\n",
       "    }\n",
       "\n",
       "    .dataframe tbody tr th {\n",
       "        vertical-align: top;\n",
       "    }\n",
       "\n",
       "    .dataframe thead th {\n",
       "        text-align: right;\n",
       "    }\n",
       "</style>\n",
       "<table border=\"1\" class=\"dataframe\">\n",
       "  <thead>\n",
       "    <tr style=\"text-align: right;\">\n",
       "      <th></th>\n",
       "      <th>10000</th>\n",
       "      <th>5000</th>\n",
       "      <th>1000</th>\n",
       "    </tr>\n",
       "  </thead>\n",
       "  <tbody>\n",
       "    <tr>\n",
       "      <th>0</th>\n",
       "      <td>0.9606</td>\n",
       "      <td>0.9583</td>\n",
       "      <td>0.9427</td>\n",
       "    </tr>\n",
       "  </tbody>\n",
       "</table>\n",
       "</div>"
      ],
      "text/plain": [
       "    10000   5000    1000 \n",
       "0  0.9606  0.9583  0.9427"
      ]
     },
     "execution_count": 132,
     "metadata": {},
     "output_type": "execute_result"
    }
   ],
   "source": [
    "accuracy_df_kmeans_plus = pd.DataFrame(accuracy_dict_kmeans_plus)\n",
    "accuracy_df_kmeans_plus"
   ]
  },
  {
   "cell_type": "code",
   "execution_count": 134,
   "metadata": {},
   "outputs": [
    {
     "data": {
      "text/plain": [
       "10000    0.948923\n",
       "5000     0.935643\n",
       "1000     0.883680\n",
       "dtype: float64"
      ]
     },
     "execution_count": 134,
     "metadata": {},
     "output_type": "execute_result"
    }
   ],
   "source": [
    "accuracy_df.mean()"
   ]
  },
  {
   "cell_type": "code",
   "execution_count": 136,
   "metadata": {},
   "outputs": [
    {
     "data": {
      "text/html": [
       "<div>\n",
       "<style scoped>\n",
       "    .dataframe tbody tr th:only-of-type {\n",
       "        vertical-align: middle;\n",
       "    }\n",
       "\n",
       "    .dataframe tbody tr th {\n",
       "        vertical-align: top;\n",
       "    }\n",
       "\n",
       "    .dataframe thead th {\n",
       "        text-align: right;\n",
       "    }\n",
       "</style>\n",
       "<table border=\"1\" class=\"dataframe\">\n",
       "  <thead>\n",
       "    <tr style=\"text-align: right;\">\n",
       "      <th></th>\n",
       "      <th>10000</th>\n",
       "      <th>5000</th>\n",
       "      <th>1000</th>\n",
       "    </tr>\n",
       "  </thead>\n",
       "  <tbody>\n",
       "    <tr>\n",
       "      <th>0</th>\n",
       "      <td>0.9594</td>\n",
       "      <td>0.956</td>\n",
       "      <td>0.9408</td>\n",
       "    </tr>\n",
       "  </tbody>\n",
       "</table>\n",
       "</div>"
      ],
      "text/plain": [
       "    10000  5000    1000 \n",
       "0  0.9594  0.956  0.9408"
      ]
     },
     "execution_count": 136,
     "metadata": {},
     "output_type": "execute_result"
    }
   ],
   "source": [
    "accuracy_df_kmeans"
   ]
  }
 ],
 "metadata": {
  "kernelspec": {
   "display_name": "base",
   "language": "python",
   "name": "python3"
  },
  "language_info": {
   "codemirror_mode": {
    "name": "ipython",
    "version": 3
   },
   "file_extension": ".py",
   "mimetype": "text/x-python",
   "name": "python",
   "nbconvert_exporter": "python",
   "pygments_lexer": "ipython3",
   "version": "3.12.7"
  }
 },
 "nbformat": 4,
 "nbformat_minor": 2
}
