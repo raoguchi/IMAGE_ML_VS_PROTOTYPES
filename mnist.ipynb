{
 "cells": [
  {
   "cell_type": "code",
   "execution_count": null,
   "metadata": {},
   "outputs": [],
   "source": [
    "import numpy as np\n",
    "import struct\n",
    "import matplotlib.pyplot as plt\n",
    "from scipy.spatial.distance import cdist\n",
    "import pandas as pd\n",
    "import seaborn as sns\n",
    "import torch\n",
    "import torchvision\n",
    "import torchvision.transforms as transforms\n",
    "from torch.utils.data import DataLoader, Subset\n",
    "from collections import Counter\n",
    "import os"
   ]
  },
  {
   "cell_type": "markdown",
   "metadata": {},
   "source": [
    "# Random Prototyping"
   ]
  },
  {
   "cell_type": "code",
   "execution_count": null,
   "metadata": {},
   "outputs": [
    {
     "name": "stdout",
     "output_type": "stream",
     "text": [
      "Using device: cpu\n"
     ]
    }
   ],
   "source": [
    "# Check for GPU\n",
    "device = torch.device(\"cuda\" if torch.cuda.is_available() else \"cpu\")\n",
    "print(f\"Using device: {device}\")\n",
    "\n",
    "# Load MNIST dataset\n",
    "transform = transforms.Compose([transforms.ToTensor(), transforms.Normalize((0.1307,), (0.3081,))])\n",
    "\n",
    "train_set = torchvision.datasets.MNIST(root='./data', train=True, download=False, transform=transform)\n",
    "test_set = torchvision.datasets.MNIST(root='./data', train=False, download=False, transform=transform)\n",
    "\n",
    "# Convert dataset to DataLoader (load all at once)\n",
    "train_loader = torch.utils.data.DataLoader(train_set, batch_size=len(train_set), shuffle=False)\n",
    "test_loader = torch.utils.data.DataLoader(test_set, batch_size=len(test_set), shuffle=False)\n",
    "\n",
    "# Extract train and test data\n",
    "train_data, train_labels = next(iter(train_loader))\n",
    "test_data, test_labels = next(iter(test_loader))\n",
    "\n",
    "# Flatten images from (N, 1, 28, 28) -> (N, 784)\n",
    "train_data = train_data.view(train_data.shape[0], -1).to(device)  # (60000, 784)\n",
    "test_data = test_data.view(test_data.shape[0], -1).to(device)  # (10000, 784)\n",
    "\n",
    "train_labels = train_labels.to(device)\n",
    "test_labels = test_labels.to(device)"
   ]
  },
  {
   "cell_type": "code",
   "execution_count": 4,
   "metadata": {},
   "outputs": [],
   "source": [
    "num_subsets = np.array([10000, 5000, 1000])"
   ]
  },
  {
   "cell_type": "code",
   "execution_count": null,
   "metadata": {},
   "outputs": [],
   "source": [
    "def compute_accuracy(test_data, prototype_data, prototype_labels, k=1):\n",
    "    # Compute full pairwise distance matrix in one go\n",
    "    print(\"Computing full distance matrix...\")\n",
    "    distances = torch.cdist(test_data, prototype_data)  # Shape: (10000, 60000)\n",
    "\n",
    "    # Get indices of k nearest neighbors\n",
    "    k_indices = torch.topk(distances, k, largest=False).indices  # Shape: (10000, k)\n",
    "\n",
    "    # Retrieve the k nearest labels\n",
    "    k_labels = prototype_labels[k_indices]  # Shape: (10000, k)\n",
    "\n",
    "    # Majority voting for prediction\n",
    "    pred_labels = torch.mode(k_labels, dim=1).values  # Shape: (10000,)\n",
    "\n",
    "    # Compute accuracy\n",
    "    accuracy = (pred_labels == test_labels).float().mean().item()\n",
    "    print(f'{k}-NN accuracy on full test set (no batching): {accuracy:.4f}')\n",
    "    return accuracy"
   ]
  },
  {
   "cell_type": "code",
   "execution_count": 6,
   "metadata": {},
   "outputs": [
    {
     "name": "stdout",
     "output_type": "stream",
     "text": [
      "Computing full distance matrix...\n",
      "k-NN accuracy on full test set (no batching): 0.9503\n",
      "Computing full distance matrix...\n",
      "k-NN accuracy on full test set (no batching): 0.9506\n",
      "Computing full distance matrix...\n",
      "k-NN accuracy on full test set (no batching): 0.9501\n",
      "Computing full distance matrix...\n",
      "k-NN accuracy on full test set (no batching): 0.9509\n",
      "Computing full distance matrix...\n",
      "k-NN accuracy on full test set (no batching): 0.9472\n",
      "Computing full distance matrix...\n",
      "k-NN accuracy on full test set (no batching): 0.9490\n",
      "Computing full distance matrix...\n",
      "k-NN accuracy on full test set (no batching): 0.9505\n",
      "Computing full distance matrix...\n",
      "k-NN accuracy on full test set (no batching): 0.9459\n",
      "Computing full distance matrix...\n",
      "k-NN accuracy on full test set (no batching): 0.9461\n",
      "Computing full distance matrix...\n",
      "k-NN accuracy on full test set (no batching): 0.9490\n",
      "Computing full distance matrix...\n",
      "k-NN accuracy on full test set (no batching): 0.9467\n",
      "Computing full distance matrix...\n",
      "k-NN accuracy on full test set (no batching): 0.9495\n",
      "Computing full distance matrix...\n",
      "k-NN accuracy on full test set (no batching): 0.9494\n",
      "Computing full distance matrix...\n",
      "k-NN accuracy on full test set (no batching): 0.9480\n",
      "Computing full distance matrix...\n",
      "k-NN accuracy on full test set (no batching): 0.9502\n",
      "Computing full distance matrix...\n",
      "k-NN accuracy on full test set (no batching): 0.9491\n",
      "Computing full distance matrix...\n",
      "k-NN accuracy on full test set (no batching): 0.9503\n",
      "Computing full distance matrix...\n",
      "k-NN accuracy on full test set (no batching): 0.9468\n",
      "Computing full distance matrix...\n",
      "k-NN accuracy on full test set (no batching): 0.9481\n",
      "Computing full distance matrix...\n",
      "k-NN accuracy on full test set (no batching): 0.9489\n",
      "Computing full distance matrix...\n",
      "k-NN accuracy on full test set (no batching): 0.9482\n",
      "Computing full distance matrix...\n",
      "k-NN accuracy on full test set (no batching): 0.9483\n",
      "Computing full distance matrix...\n",
      "k-NN accuracy on full test set (no batching): 0.9509\n",
      "Computing full distance matrix...\n",
      "k-NN accuracy on full test set (no batching): 0.9486\n",
      "Computing full distance matrix...\n",
      "k-NN accuracy on full test set (no batching): 0.9473\n",
      "Computing full distance matrix...\n",
      "k-NN accuracy on full test set (no batching): 0.9478\n",
      "Computing full distance matrix...\n",
      "k-NN accuracy on full test set (no batching): 0.9466\n",
      "Computing full distance matrix...\n",
      "k-NN accuracy on full test set (no batching): 0.9501\n",
      "Computing full distance matrix...\n",
      "k-NN accuracy on full test set (no batching): 0.9483\n",
      "Computing full distance matrix...\n",
      "k-NN accuracy on full test set (no batching): 0.9512\n",
      "Computing full distance matrix...\n",
      "k-NN accuracy on full test set (no batching): 0.9368\n",
      "Computing full distance matrix...\n",
      "k-NN accuracy on full test set (no batching): 0.9346\n",
      "Computing full distance matrix...\n",
      "k-NN accuracy on full test set (no batching): 0.9378\n",
      "Computing full distance matrix...\n",
      "k-NN accuracy on full test set (no batching): 0.9326\n",
      "Computing full distance matrix...\n",
      "k-NN accuracy on full test set (no batching): 0.9359\n",
      "Computing full distance matrix...\n",
      "k-NN accuracy on full test set (no batching): 0.9366\n",
      "Computing full distance matrix...\n",
      "k-NN accuracy on full test set (no batching): 0.9351\n",
      "Computing full distance matrix...\n",
      "k-NN accuracy on full test set (no batching): 0.9323\n",
      "Computing full distance matrix...\n",
      "k-NN accuracy on full test set (no batching): 0.9373\n",
      "Computing full distance matrix...\n",
      "k-NN accuracy on full test set (no batching): 0.9344\n",
      "Computing full distance matrix...\n",
      "k-NN accuracy on full test set (no batching): 0.9368\n",
      "Computing full distance matrix...\n",
      "k-NN accuracy on full test set (no batching): 0.9336\n",
      "Computing full distance matrix...\n",
      "k-NN accuracy on full test set (no batching): 0.9342\n",
      "Computing full distance matrix...\n",
      "k-NN accuracy on full test set (no batching): 0.9373\n",
      "Computing full distance matrix...\n",
      "k-NN accuracy on full test set (no batching): 0.9346\n",
      "Computing full distance matrix...\n",
      "k-NN accuracy on full test set (no batching): 0.9359\n",
      "Computing full distance matrix...\n",
      "k-NN accuracy on full test set (no batching): 0.9362\n",
      "Computing full distance matrix...\n",
      "k-NN accuracy on full test set (no batching): 0.9346\n",
      "Computing full distance matrix...\n",
      "k-NN accuracy on full test set (no batching): 0.9357\n",
      "Computing full distance matrix...\n",
      "k-NN accuracy on full test set (no batching): 0.9387\n",
      "Computing full distance matrix...\n",
      "k-NN accuracy on full test set (no batching): 0.9312\n",
      "Computing full distance matrix...\n",
      "k-NN accuracy on full test set (no batching): 0.9373\n",
      "Computing full distance matrix...\n",
      "k-NN accuracy on full test set (no batching): 0.9386\n",
      "Computing full distance matrix...\n",
      "k-NN accuracy on full test set (no batching): 0.9323\n",
      "Computing full distance matrix...\n",
      "k-NN accuracy on full test set (no batching): 0.9357\n",
      "Computing full distance matrix...\n",
      "k-NN accuracy on full test set (no batching): 0.9329\n",
      "Computing full distance matrix...\n",
      "k-NN accuracy on full test set (no batching): 0.9334\n",
      "Computing full distance matrix...\n",
      "k-NN accuracy on full test set (no batching): 0.9352\n",
      "Computing full distance matrix...\n",
      "k-NN accuracy on full test set (no batching): 0.9376\n",
      "Computing full distance matrix...\n",
      "k-NN accuracy on full test set (no batching): 0.9323\n",
      "Computing full distance matrix...\n",
      "k-NN accuracy on full test set (no batching): 0.8873\n",
      "Computing full distance matrix...\n",
      "k-NN accuracy on full test set (no batching): 0.8923\n",
      "Computing full distance matrix...\n",
      "k-NN accuracy on full test set (no batching): 0.8880\n",
      "Computing full distance matrix...\n",
      "k-NN accuracy on full test set (no batching): 0.8821\n",
      "Computing full distance matrix...\n",
      "k-NN accuracy on full test set (no batching): 0.8893\n",
      "Computing full distance matrix...\n",
      "k-NN accuracy on full test set (no batching): 0.8875\n",
      "Computing full distance matrix...\n",
      "k-NN accuracy on full test set (no batching): 0.8864\n",
      "Computing full distance matrix...\n",
      "k-NN accuracy on full test set (no batching): 0.8912\n",
      "Computing full distance matrix...\n",
      "k-NN accuracy on full test set (no batching): 0.8840\n",
      "Computing full distance matrix...\n",
      "k-NN accuracy on full test set (no batching): 0.8841\n",
      "Computing full distance matrix...\n",
      "k-NN accuracy on full test set (no batching): 0.8863\n",
      "Computing full distance matrix...\n",
      "k-NN accuracy on full test set (no batching): 0.8931\n",
      "Computing full distance matrix...\n",
      "k-NN accuracy on full test set (no batching): 0.8896\n",
      "Computing full distance matrix...\n",
      "k-NN accuracy on full test set (no batching): 0.8834\n",
      "Computing full distance matrix...\n",
      "k-NN accuracy on full test set (no batching): 0.8899\n",
      "Computing full distance matrix...\n",
      "k-NN accuracy on full test set (no batching): 0.8865\n",
      "Computing full distance matrix...\n",
      "k-NN accuracy on full test set (no batching): 0.8796\n",
      "Computing full distance matrix...\n",
      "k-NN accuracy on full test set (no batching): 0.8813\n",
      "Computing full distance matrix...\n",
      "k-NN accuracy on full test set (no batching): 0.8804\n",
      "Computing full distance matrix...\n",
      "k-NN accuracy on full test set (no batching): 0.8828\n",
      "Computing full distance matrix...\n",
      "k-NN accuracy on full test set (no batching): 0.8789\n",
      "Computing full distance matrix...\n",
      "k-NN accuracy on full test set (no batching): 0.8763\n",
      "Computing full distance matrix...\n",
      "k-NN accuracy on full test set (no batching): 0.8746\n",
      "Computing full distance matrix...\n",
      "k-NN accuracy on full test set (no batching): 0.8902\n",
      "Computing full distance matrix...\n",
      "k-NN accuracy on full test set (no batching): 0.8838\n",
      "Computing full distance matrix...\n",
      "k-NN accuracy on full test set (no batching): 0.8835\n",
      "Computing full distance matrix...\n",
      "k-NN accuracy on full test set (no batching): 0.8888\n",
      "Computing full distance matrix...\n",
      "k-NN accuracy on full test set (no batching): 0.8916\n",
      "Computing full distance matrix...\n",
      "k-NN accuracy on full test set (no batching): 0.8813\n",
      "Computing full distance matrix...\n",
      "k-NN accuracy on full test set (no batching): 0.8826\n"
     ]
    }
   ],
   "source": [
    "accuracy_dict = {}\n",
    "for subset in num_subsets:\n",
    "    accuracy_list = []\n",
    "    for _ in range(30):\n",
    "        random_indicies = torch.randperm(train_data.shape[0])[:subset]\n",
    "        prototype_train_data = train_data[random_indicies]\n",
    "        prototype_train_labels = train_labels[random_indicies]\n",
    "        accuracy = compute_accuracy(test_data, prototype_train_data, prototype_train_labels)\n",
    "        accuracy_list.append(accuracy)\n",
    "    accuracy_dict[subset] = accuracy_list"
   ]
  },
  {
   "cell_type": "code",
   "execution_count": 7,
   "metadata": {},
   "outputs": [],
   "source": [
    "accuracy_df = pd.DataFrame(accuracy_dict)"
   ]
  },
  {
   "cell_type": "code",
   "execution_count": 8,
   "metadata": {},
   "outputs": [
    {
     "data": {
      "text/plain": [
       "10000    0.948797\n",
       "5000     0.935250\n",
       "1000     0.885223\n",
       "dtype: float64"
      ]
     },
     "execution_count": 8,
     "metadata": {},
     "output_type": "execute_result"
    }
   ],
   "source": [
    "accuracy_df.mean()"
   ]
  },
  {
   "cell_type": "code",
   "execution_count": 9,
   "metadata": {},
   "outputs": [
    {
     "data": {
      "text/plain": [
       "10000    0.001535\n",
       "5000     0.002041\n",
       "1000     0.004759\n",
       "dtype: float64"
      ]
     },
     "execution_count": 9,
     "metadata": {},
     "output_type": "execute_result"
    }
   ],
   "source": [
    "accuracy_df.std(ddof=1)"
   ]
  },
  {
   "cell_type": "markdown",
   "metadata": {},
   "source": [
    "# K Means"
   ]
  },
  {
   "cell_type": "markdown",
   "metadata": {},
   "source": [
    "## K Means"
   ]
  },
  {
   "cell_type": "markdown",
   "metadata": {},
   "source": [
    "### Base Functions"
   ]
  },
  {
   "cell_type": "code",
   "execution_count": 10,
   "metadata": {},
   "outputs": [],
   "source": [
    "# Perform K-Means clustering\n",
    "def kmeans(X, k, num_iters=100, tol=1e-4):\n",
    "    \"\"\"\n",
    "    Runs K-Means clustering on tensor X.\n",
    "    \n",
    "    Args:\n",
    "    - X (Tensor): Data points of shape (N, D)\n",
    "    - k (int): Number of clusters\n",
    "    - num_iters (int): Maximum number of iterations\n",
    "    - tol (float): Tolerance for convergence\n",
    "    \n",
    "    Returns:\n",
    "    - cluster_assignments (Tensor): Cluster labels for each point\n",
    "    - centroids (Tensor): Final cluster centroids\n",
    "    \"\"\"\n",
    "    N, D = X.shape\n",
    "    device = X.device\n",
    "\n",
    "    # 1️⃣ Randomly initialize centroids\n",
    "    indices = torch.randperm(N)[:k]  \n",
    "    centroids = X[indices]  # (k, D)\n",
    "\n",
    "    for i in range(num_iters):\n",
    "        # 2️⃣ Compute distances to centroids\n",
    "        distances = torch.cdist(X, centroids)  # (N, k)\n",
    "\n",
    "        # 3️⃣ Assign each point to the nearest centroid\n",
    "        cluster_assignments = torch.argmin(distances, dim=1)  # (N,)\n",
    "\n",
    "        # 4️⃣ Compute new centroids\n",
    "        new_centroids = torch.stack([X[cluster_assignments == c].mean(dim=0) for c in range(k)])\n",
    "\n",
    "        # 5️⃣ Check for convergence\n",
    "        if torch.allclose(new_centroids, centroids, atol=tol):\n",
    "            print(f'Converged at iteration {i}')\n",
    "            break\n",
    "        centroids = new_centroids\n",
    "\n",
    "    return cluster_assignments, centroids\n",
    "\n",
    "# Function to assign labels to centroids\n",
    "def assign_labels(cluster_labels, y_true, k):\n",
    "    \"\"\"\n",
    "    Assigns a label to each K-Means cluster using majority voting.\n",
    "    \n",
    "    Args:\n",
    "    - cluster_labels (Tensor): Cluster assignments for each point\n",
    "    - y_true (Tensor): True MNIST labels\n",
    "    - k (int): Number of clusters\n",
    "\n",
    "    Returns:\n",
    "    - cluster_to_label (list): List where index `i` corresponds to cluster `i`'s assigned label\n",
    "    \"\"\"\n",
    "    cluster_to_label = [-1] * k  # Initialize list with -1 for empty clusters\n",
    "\n",
    "    for cluster in range(k):\n",
    "        # Get all true labels for this cluster\n",
    "        cluster_indices = (cluster_labels == cluster).nonzero(as_tuple=True)[0]\n",
    "        true_labels = y_true[cluster_indices]\n",
    "\n",
    "        # Find the most common label in this cluster\n",
    "        if len(true_labels) > 0:\n",
    "            most_common_label = Counter(true_labels.tolist()).most_common(1)[0][0]\n",
    "            cluster_to_label[cluster] = most_common_label\n",
    "\n",
    "    return cluster_to_label\n"
   ]
  },
  {
   "cell_type": "markdown",
   "metadata": {},
   "source": [
    "### Create Centroids"
   ]
  },
  {
   "cell_type": "code",
   "execution_count": 22,
   "metadata": {},
   "outputs": [],
   "source": [
    "for subset in num_subsets:\n",
    "    if os.path.exists(f\"mnist_centroids/mnist_kmeans_centroids_{subset}.pth\"):\n",
    "        continue\n",
    "    else:\n",
    "        cluster_labels, centroids = kmeans(train_data, subset)\n",
    "        cluster_to_label = assign_labels(cluster_labels, train_labels, subset)\n",
    "        torch.save(centroids, f\"mnist_kmeans_centroids_{subset}.pth\")\n",
    "        torch.save(cluster_to_label, f\"mnist_kmeans_cluster_labels_{subset}.pth\")"
   ]
  },
  {
   "cell_type": "markdown",
   "metadata": {},
   "source": [
    "### Make Predictions"
   ]
  },
  {
   "cell_type": "code",
   "execution_count": 24,
   "metadata": {},
   "outputs": [
    {
     "name": "stdout",
     "output_type": "stream",
     "text": [
      "Computing full distance matrix...\n",
      "k-NN accuracy on full test set (no batching): 0.9594\n",
      "Computing full distance matrix...\n",
      "k-NN accuracy on full test set (no batching): 0.9560\n",
      "Computing full distance matrix...\n",
      "k-NN accuracy on full test set (no batching): 0.9408\n"
     ]
    }
   ],
   "source": [
    "accuracy_dict_kmeans = {}\n",
    "\n",
    "for subset in num_subsets:\n",
    "    prototype_train_data = torch.load(f\"mnist_centroids/mnist_kmeans_centroids_{subset}.pth\", weights_only=False)\n",
    "    prototype_train_labels = torch.tensor(torch.load(f\"mnist_centroids/mnist_kmeans_cluster_labels_{subset}.pth\", weights_only=False))\n",
    "    accuracy = compute_accuracy(test_data, prototype_train_data, prototype_train_labels)\n",
    "    accuracy_dict_kmeans[subset] = [accuracy]"
   ]
  },
  {
   "cell_type": "code",
   "execution_count": 25,
   "metadata": {},
   "outputs": [
    {
     "data": {
      "text/html": [
       "<div>\n",
       "<style scoped>\n",
       "    .dataframe tbody tr th:only-of-type {\n",
       "        vertical-align: middle;\n",
       "    }\n",
       "\n",
       "    .dataframe tbody tr th {\n",
       "        vertical-align: top;\n",
       "    }\n",
       "\n",
       "    .dataframe thead th {\n",
       "        text-align: right;\n",
       "    }\n",
       "</style>\n",
       "<table border=\"1\" class=\"dataframe\">\n",
       "  <thead>\n",
       "    <tr style=\"text-align: right;\">\n",
       "      <th></th>\n",
       "      <th>10000</th>\n",
       "      <th>5000</th>\n",
       "      <th>1000</th>\n",
       "    </tr>\n",
       "  </thead>\n",
       "  <tbody>\n",
       "    <tr>\n",
       "      <th>0</th>\n",
       "      <td>0.9594</td>\n",
       "      <td>0.956</td>\n",
       "      <td>0.9408</td>\n",
       "    </tr>\n",
       "  </tbody>\n",
       "</table>\n",
       "</div>"
      ],
      "text/plain": [
       "    10000  5000    1000 \n",
       "0  0.9594  0.956  0.9408"
      ]
     },
     "execution_count": 25,
     "metadata": {},
     "output_type": "execute_result"
    }
   ],
   "source": [
    "accuracy_df_kmeans = pd.DataFrame(accuracy_dict_kmeans)\n",
    "accuracy_df_kmeans"
   ]
  },
  {
   "cell_type": "markdown",
   "metadata": {},
   "source": [
    "## K Means ++"
   ]
  },
  {
   "cell_type": "markdown",
   "metadata": {},
   "source": [
    "### Base Functions"
   ]
  },
  {
   "cell_type": "code",
   "execution_count": 14,
   "metadata": {},
   "outputs": [],
   "source": [
    "def kmeans_plusplus(X, k):\n",
    "    \"\"\"\n",
    "    Initializes centroids using the K-Means++ algorithm.\n",
    "    \n",
    "    Args:\n",
    "    - X (Tensor): Data points of shape (N, D)\n",
    "    - k (int): Number of clusters\n",
    "    \n",
    "    Returns:\n",
    "    - centroids (Tensor): Initialized centroids of shape (k, D)\n",
    "    \"\"\"\n",
    "    N, D = X.shape\n",
    "    device = X.device\n",
    "    centroids = torch.empty((k, D), device=device)  # To store k centroids\n",
    "\n",
    "    # 1️⃣ Select first centroid randomly\n",
    "    first_idx = torch.randint(0, N, (1,))\n",
    "    centroids[0] = X[first_idx]\n",
    "\n",
    "    # 2️⃣ Select remaining centroids using distance-based probability\n",
    "    for i in range(1, k):\n",
    "        distances = torch.cdist(X, centroids[:i]).min(dim=1).values ** 2\n",
    "        probabilities = distances / distances.sum()  # Normalize to probabilities\n",
    "        next_idx = torch.multinomial(probabilities, 1)  # Sample next centroid\n",
    "        centroids[i] = X[next_idx]\n",
    "\n",
    "    return centroids\n",
    "\n",
    "def kmeans(X, k, num_iters=100, tol=1e-4):\n",
    "    \"\"\"\n",
    "    Performs K-Means clustering with K-Means++ initialization.\n",
    "    \n",
    "    Args:\n",
    "    - X (Tensor): Data points of shape (N, D)\n",
    "    - k (int): Number of clusters\n",
    "    - num_iters (int): Number of iterations\n",
    "    - tol (float): Tolerance for convergence\n",
    "    \n",
    "    Returns:\n",
    "    - cluster_assignments (Tensor): Cluster indices for each point\n",
    "    - centroids (Tensor): Final cluster centroids\n",
    "    \"\"\"\n",
    "    N, D = X.shape\n",
    "    device = X.device\n",
    "\n",
    "    # Initialize centroids using K-Means++\n",
    "    centroids = kmeans_plusplus(X, k)\n",
    "\n",
    "    for _ in range(num_iters):\n",
    "        # Compute distances from each point to each centroid\n",
    "        distances = torch.cdist(X, centroids)  # (N, k)\n",
    "\n",
    "        # Assign each point to the nearest centroid\n",
    "        cluster_assignments = torch.argmin(distances, dim=1)  # (N,)\n",
    "\n",
    "        # Compute new centroids\n",
    "        new_centroids = torch.stack([X[cluster_assignments == c].mean(dim=0) for c in range(k)])\n",
    "\n",
    "        # Check for convergence (if centroids change very little)\n",
    "        if torch.allclose(new_centroids, centroids, atol=tol):\n",
    "            print(\"Converged early!\")\n",
    "            break\n",
    "\n",
    "        centroids = new_centroids\n",
    "\n",
    "    return cluster_assignments, centroids\n"
   ]
  },
  {
   "cell_type": "markdown",
   "metadata": {},
   "source": [
    "### Create Centroids"
   ]
  },
  {
   "cell_type": "code",
   "execution_count": null,
   "metadata": {},
   "outputs": [],
   "source": [
    "for subset in num_subsets:\n",
    "    if os.path.exists(f\"mnist_centroids/mnist_kmeans_plus_centroids_{subset}.pth\"):\n",
    "        continue\n",
    "    else:\n",
    "        cluster_labels, centroids = kmeans(train_data, subset)\n",
    "        cluster_to_label = assign_labels(cluster_labels, train_labels, subset)\n",
    "        torch.save(centroids, f\"mnist_kmeans_plus_centroids_{subset}.pth\")\n",
    "        torch.save(cluster_to_label, f\"mnist_kmeans_plus_cluster_labels_{subset}.pth\")"
   ]
  },
  {
   "cell_type": "markdown",
   "metadata": {},
   "source": [
    "### Make Predictions"
   ]
  },
  {
   "cell_type": "code",
   "execution_count": null,
   "metadata": {},
   "outputs": [
    {
     "name": "stdout",
     "output_type": "stream",
     "text": [
      "Computing full distance matrix...\n",
      "k-NN accuracy on full test set (no batching): 0.9606\n",
      "Computing full distance matrix...\n",
      "k-NN accuracy on full test set (no batching): 0.9583\n",
      "Computing full distance matrix...\n",
      "k-NN accuracy on full test set (no batching): 0.9427\n"
     ]
    }
   ],
   "source": [
    "accuracy_dict_kmeans_plus = {}\n",
    "\n",
    "for subset in num_subsets:\n",
    "    prototype_train_data = torch.load(f\"mnist_centroids/mnist_kmeans_plus_centroids_{subset}.pth\", weights_only=False)\n",
    "    prototype_train_labels = torch.tensor(torch.load(f\"mnist_centroids/mnist_kmeans_plus_cluster_labels_{subset}.pth\", weights_only=False))\n",
    "    accuracy = compute_accuracy(test_data, prototype_train_data, prototype_train_labels)\n",
    "    accuracy_dict_kmeans_plus[subset] = [accuracy]"
   ]
  },
  {
   "cell_type": "code",
   "execution_count": 18,
   "metadata": {},
   "outputs": [
    {
     "data": {
      "text/html": [
       "<div>\n",
       "<style scoped>\n",
       "    .dataframe tbody tr th:only-of-type {\n",
       "        vertical-align: middle;\n",
       "    }\n",
       "\n",
       "    .dataframe tbody tr th {\n",
       "        vertical-align: top;\n",
       "    }\n",
       "\n",
       "    .dataframe thead th {\n",
       "        text-align: right;\n",
       "    }\n",
       "</style>\n",
       "<table border=\"1\" class=\"dataframe\">\n",
       "  <thead>\n",
       "    <tr style=\"text-align: right;\">\n",
       "      <th></th>\n",
       "      <th>10000</th>\n",
       "      <th>5000</th>\n",
       "      <th>1000</th>\n",
       "    </tr>\n",
       "  </thead>\n",
       "  <tbody>\n",
       "    <tr>\n",
       "      <th>0</th>\n",
       "      <td>0.9606</td>\n",
       "      <td>0.9583</td>\n",
       "      <td>0.9427</td>\n",
       "    </tr>\n",
       "  </tbody>\n",
       "</table>\n",
       "</div>"
      ],
      "text/plain": [
       "    10000   5000    1000 \n",
       "0  0.9606  0.9583  0.9427"
      ]
     },
     "execution_count": 18,
     "metadata": {},
     "output_type": "execute_result"
    }
   ],
   "source": [
    "accuracy_df_kmeans_plus = pd.DataFrame(accuracy_dict_kmeans_plus)\n",
    "accuracy_df_kmeans_plus"
   ]
  },
  {
   "cell_type": "code",
   "execution_count": 19,
   "metadata": {},
   "outputs": [
    {
     "data": {
      "text/plain": [
       "10000    0.948797\n",
       "5000     0.935250\n",
       "1000     0.885223\n",
       "dtype: float64"
      ]
     },
     "execution_count": 19,
     "metadata": {},
     "output_type": "execute_result"
    }
   ],
   "source": [
    "accuracy_df.mean()"
   ]
  },
  {
   "cell_type": "code",
   "execution_count": 20,
   "metadata": {},
   "outputs": [
    {
     "data": {
      "text/html": [
       "<div>\n",
       "<style scoped>\n",
       "    .dataframe tbody tr th:only-of-type {\n",
       "        vertical-align: middle;\n",
       "    }\n",
       "\n",
       "    .dataframe tbody tr th {\n",
       "        vertical-align: top;\n",
       "    }\n",
       "\n",
       "    .dataframe thead th {\n",
       "        text-align: right;\n",
       "    }\n",
       "</style>\n",
       "<table border=\"1\" class=\"dataframe\">\n",
       "  <thead>\n",
       "    <tr style=\"text-align: right;\">\n",
       "      <th></th>\n",
       "      <th>10000</th>\n",
       "      <th>5000</th>\n",
       "      <th>1000</th>\n",
       "    </tr>\n",
       "  </thead>\n",
       "  <tbody>\n",
       "    <tr>\n",
       "      <th>0</th>\n",
       "      <td>0.9594</td>\n",
       "      <td>0.956</td>\n",
       "      <td>0.9408</td>\n",
       "    </tr>\n",
       "  </tbody>\n",
       "</table>\n",
       "</div>"
      ],
      "text/plain": [
       "    10000  5000    1000 \n",
       "0  0.9594  0.956  0.9408"
      ]
     },
     "execution_count": 20,
     "metadata": {},
     "output_type": "execute_result"
    }
   ],
   "source": [
    "accuracy_df_kmeans"
   ]
  },
  {
   "cell_type": "markdown",
   "metadata": {},
   "source": [
    "## 3 Nearest Neighbors"
   ]
  },
  {
   "cell_type": "markdown",
   "metadata": {},
   "source": [
    "### Random Selection"
   ]
  },
  {
   "cell_type": "code",
   "execution_count": 26,
   "metadata": {},
   "outputs": [
    {
     "name": "stdout",
     "output_type": "stream",
     "text": [
      "Computing full distance matrix...\n",
      "k-NN accuracy on full test set (no batching): 0.9495\n",
      "Computing full distance matrix...\n",
      "k-NN accuracy on full test set (no batching): 0.9504\n",
      "Computing full distance matrix...\n",
      "k-NN accuracy on full test set (no batching): 0.9494\n",
      "Computing full distance matrix...\n",
      "k-NN accuracy on full test set (no batching): 0.9509\n",
      "Computing full distance matrix...\n",
      "k-NN accuracy on full test set (no batching): 0.9484\n",
      "Computing full distance matrix...\n",
      "k-NN accuracy on full test set (no batching): 0.9497\n",
      "Computing full distance matrix...\n",
      "k-NN accuracy on full test set (no batching): 0.9500\n",
      "Computing full distance matrix...\n",
      "k-NN accuracy on full test set (no batching): 0.9487\n",
      "Computing full distance matrix...\n",
      "k-NN accuracy on full test set (no batching): 0.9478\n",
      "Computing full distance matrix...\n",
      "k-NN accuracy on full test set (no batching): 0.9502\n",
      "Computing full distance matrix...\n",
      "k-NN accuracy on full test set (no batching): 0.9489\n",
      "Computing full distance matrix...\n",
      "k-NN accuracy on full test set (no batching): 0.9492\n",
      "Computing full distance matrix...\n",
      "k-NN accuracy on full test set (no batching): 0.9497\n",
      "Computing full distance matrix...\n",
      "k-NN accuracy on full test set (no batching): 0.9488\n",
      "Computing full distance matrix...\n",
      "k-NN accuracy on full test set (no batching): 0.9482\n",
      "Computing full distance matrix...\n",
      "k-NN accuracy on full test set (no batching): 0.9522\n",
      "Computing full distance matrix...\n",
      "k-NN accuracy on full test set (no batching): 0.9492\n",
      "Computing full distance matrix...\n",
      "k-NN accuracy on full test set (no batching): 0.9490\n",
      "Computing full distance matrix...\n",
      "k-NN accuracy on full test set (no batching): 0.9495\n",
      "Computing full distance matrix...\n",
      "k-NN accuracy on full test set (no batching): 0.9512\n",
      "Computing full distance matrix...\n",
      "k-NN accuracy on full test set (no batching): 0.9496\n",
      "Computing full distance matrix...\n",
      "k-NN accuracy on full test set (no batching): 0.9504\n",
      "Computing full distance matrix...\n",
      "k-NN accuracy on full test set (no batching): 0.9460\n",
      "Computing full distance matrix...\n",
      "k-NN accuracy on full test set (no batching): 0.9497\n",
      "Computing full distance matrix...\n",
      "k-NN accuracy on full test set (no batching): 0.9499\n",
      "Computing full distance matrix...\n",
      "k-NN accuracy on full test set (no batching): 0.9522\n",
      "Computing full distance matrix...\n",
      "k-NN accuracy on full test set (no batching): 0.9479\n",
      "Computing full distance matrix...\n",
      "k-NN accuracy on full test set (no batching): 0.9474\n",
      "Computing full distance matrix...\n",
      "k-NN accuracy on full test set (no batching): 0.9506\n",
      "Computing full distance matrix...\n",
      "k-NN accuracy on full test set (no batching): 0.9486\n",
      "Computing full distance matrix...\n",
      "k-NN accuracy on full test set (no batching): 0.9395\n",
      "Computing full distance matrix...\n",
      "k-NN accuracy on full test set (no batching): 0.9339\n",
      "Computing full distance matrix...\n",
      "k-NN accuracy on full test set (no batching): 0.9399\n",
      "Computing full distance matrix...\n",
      "k-NN accuracy on full test set (no batching): 0.9367\n",
      "Computing full distance matrix...\n",
      "k-NN accuracy on full test set (no batching): 0.9340\n",
      "Computing full distance matrix...\n",
      "k-NN accuracy on full test set (no batching): 0.9333\n",
      "Computing full distance matrix...\n",
      "k-NN accuracy on full test set (no batching): 0.9304\n",
      "Computing full distance matrix...\n",
      "k-NN accuracy on full test set (no batching): 0.9351\n",
      "Computing full distance matrix...\n",
      "k-NN accuracy on full test set (no batching): 0.9353\n",
      "Computing full distance matrix...\n",
      "k-NN accuracy on full test set (no batching): 0.9373\n",
      "Computing full distance matrix...\n",
      "k-NN accuracy on full test set (no batching): 0.9365\n",
      "Computing full distance matrix...\n",
      "k-NN accuracy on full test set (no batching): 0.9323\n",
      "Computing full distance matrix...\n",
      "k-NN accuracy on full test set (no batching): 0.9313\n",
      "Computing full distance matrix...\n",
      "k-NN accuracy on full test set (no batching): 0.9353\n",
      "Computing full distance matrix...\n",
      "k-NN accuracy on full test set (no batching): 0.9340\n",
      "Computing full distance matrix...\n",
      "k-NN accuracy on full test set (no batching): 0.9338\n",
      "Computing full distance matrix...\n",
      "k-NN accuracy on full test set (no batching): 0.9331\n",
      "Computing full distance matrix...\n",
      "k-NN accuracy on full test set (no batching): 0.9371\n",
      "Computing full distance matrix...\n",
      "k-NN accuracy on full test set (no batching): 0.9352\n",
      "Computing full distance matrix...\n",
      "k-NN accuracy on full test set (no batching): 0.9347\n",
      "Computing full distance matrix...\n",
      "k-NN accuracy on full test set (no batching): 0.9336\n",
      "Computing full distance matrix...\n",
      "k-NN accuracy on full test set (no batching): 0.9371\n",
      "Computing full distance matrix...\n",
      "k-NN accuracy on full test set (no batching): 0.9364\n",
      "Computing full distance matrix...\n",
      "k-NN accuracy on full test set (no batching): 0.9379\n",
      "Computing full distance matrix...\n",
      "k-NN accuracy on full test set (no batching): 0.9377\n",
      "Computing full distance matrix...\n",
      "k-NN accuracy on full test set (no batching): 0.9348\n",
      "Computing full distance matrix...\n",
      "k-NN accuracy on full test set (no batching): 0.9345\n",
      "Computing full distance matrix...\n",
      "k-NN accuracy on full test set (no batching): 0.9390\n",
      "Computing full distance matrix...\n",
      "k-NN accuracy on full test set (no batching): 0.9324\n",
      "Computing full distance matrix...\n",
      "k-NN accuracy on full test set (no batching): 0.9391\n",
      "Computing full distance matrix...\n",
      "k-NN accuracy on full test set (no batching): 0.8800\n",
      "Computing full distance matrix...\n",
      "k-NN accuracy on full test set (no batching): 0.8850\n",
      "Computing full distance matrix...\n",
      "k-NN accuracy on full test set (no batching): 0.8854\n",
      "Computing full distance matrix...\n",
      "k-NN accuracy on full test set (no batching): 0.8856\n",
      "Computing full distance matrix...\n",
      "k-NN accuracy on full test set (no batching): 0.8794\n",
      "Computing full distance matrix...\n",
      "k-NN accuracy on full test set (no batching): 0.8754\n",
      "Computing full distance matrix...\n",
      "k-NN accuracy on full test set (no batching): 0.8784\n",
      "Computing full distance matrix...\n",
      "k-NN accuracy on full test set (no batching): 0.8860\n",
      "Computing full distance matrix...\n",
      "k-NN accuracy on full test set (no batching): 0.8727\n",
      "Computing full distance matrix...\n",
      "k-NN accuracy on full test set (no batching): 0.8776\n",
      "Computing full distance matrix...\n",
      "k-NN accuracy on full test set (no batching): 0.8760\n",
      "Computing full distance matrix...\n",
      "k-NN accuracy on full test set (no batching): 0.8788\n",
      "Computing full distance matrix...\n",
      "k-NN accuracy on full test set (no batching): 0.8878\n",
      "Computing full distance matrix...\n",
      "k-NN accuracy on full test set (no batching): 0.8747\n",
      "Computing full distance matrix...\n",
      "k-NN accuracy on full test set (no batching): 0.8883\n",
      "Computing full distance matrix...\n",
      "k-NN accuracy on full test set (no batching): 0.8765\n",
      "Computing full distance matrix...\n",
      "k-NN accuracy on full test set (no batching): 0.8839\n",
      "Computing full distance matrix...\n",
      "k-NN accuracy on full test set (no batching): 0.8785\n",
      "Computing full distance matrix...\n",
      "k-NN accuracy on full test set (no batching): 0.8751\n",
      "Computing full distance matrix...\n",
      "k-NN accuracy on full test set (no batching): 0.8855\n",
      "Computing full distance matrix...\n",
      "k-NN accuracy on full test set (no batching): 0.8797\n",
      "Computing full distance matrix...\n",
      "k-NN accuracy on full test set (no batching): 0.8782\n",
      "Computing full distance matrix...\n",
      "k-NN accuracy on full test set (no batching): 0.8807\n",
      "Computing full distance matrix...\n",
      "k-NN accuracy on full test set (no batching): 0.8805\n",
      "Computing full distance matrix...\n",
      "k-NN accuracy on full test set (no batching): 0.8688\n",
      "Computing full distance matrix...\n",
      "k-NN accuracy on full test set (no batching): 0.8791\n",
      "Computing full distance matrix...\n",
      "k-NN accuracy on full test set (no batching): 0.8736\n",
      "Computing full distance matrix...\n",
      "k-NN accuracy on full test set (no batching): 0.8844\n",
      "Computing full distance matrix...\n",
      "k-NN accuracy on full test set (no batching): 0.8834\n",
      "Computing full distance matrix...\n",
      "k-NN accuracy on full test set (no batching): 0.8718\n"
     ]
    }
   ],
   "source": [
    "accuracy_dict_3 = {}\n",
    "for subset in num_subsets:\n",
    "    accuracy_list = []\n",
    "    for _ in range(30):\n",
    "        random_indicies = torch.randperm(train_data.shape[0])[:subset]\n",
    "        prototype_train_data = train_data[random_indicies]\n",
    "        prototype_train_labels = train_labels[random_indicies]\n",
    "        accuracy = compute_accuracy(test_data, prototype_train_data, prototype_train_labels, k=3)\n",
    "        accuracy_list.append(accuracy)\n",
    "    accuracy_dict_3[subset] = accuracy_list"
   ]
  },
  {
   "cell_type": "code",
   "execution_count": 27,
   "metadata": {},
   "outputs": [
    {
     "data": {
      "text/plain": [
       "(10000    0.949440\n",
       " 5000     0.935373\n",
       " 1000     0.879693\n",
       " dtype: float64,\n",
       " 10000    0.001325\n",
       " 5000     0.002438\n",
       " 1000     0.005019\n",
       " dtype: float64)"
      ]
     },
     "execution_count": 27,
     "metadata": {},
     "output_type": "execute_result"
    }
   ],
   "source": [
    "accuracy_df_3 = pd.DataFrame(accuracy_dict_3)\n",
    "accuracy_df_3.mean(), accuracy_df_3.std(ddof=1)"
   ]
  },
  {
   "cell_type": "markdown",
   "metadata": {},
   "source": [
    "### K Means"
   ]
  },
  {
   "cell_type": "code",
   "execution_count": 28,
   "metadata": {},
   "outputs": [
    {
     "name": "stdout",
     "output_type": "stream",
     "text": [
      "Computing full distance matrix...\n",
      "k-NN accuracy on full test set (no batching): 0.9613\n",
      "Computing full distance matrix...\n",
      "k-NN accuracy on full test set (no batching): 0.9588\n",
      "Computing full distance matrix...\n",
      "k-NN accuracy on full test set (no batching): 0.9395\n"
     ]
    }
   ],
   "source": [
    "accuracy_dict_kmeans_3 = {}\n",
    "\n",
    "for subset in num_subsets:\n",
    "    prototype_train_data = torch.load(f\"mnist_centroids/mnist_kmeans_centroids_{subset}.pth\", weights_only=False)\n",
    "    prototype_train_labels = torch.tensor(torch.load(f\"mnist_centroids/mnist_kmeans_cluster_labels_{subset}.pth\", weights_only=False))\n",
    "    accuracy = compute_accuracy(test_data, prototype_train_data, prototype_train_labels, k=3)\n",
    "    accuracy_dict_kmeans_3[subset] = [accuracy]"
   ]
  },
  {
   "cell_type": "markdown",
   "metadata": {},
   "source": [
    "### K Means ++"
   ]
  },
  {
   "cell_type": "code",
   "execution_count": 29,
   "metadata": {},
   "outputs": [
    {
     "name": "stdout",
     "output_type": "stream",
     "text": [
      "Computing full distance matrix...\n",
      "k-NN accuracy on full test set (no batching): 0.9635\n",
      "Computing full distance matrix...\n",
      "k-NN accuracy on full test set (no batching): 0.9581\n",
      "Computing full distance matrix...\n",
      "k-NN accuracy on full test set (no batching): 0.9441\n"
     ]
    }
   ],
   "source": [
    "accuracy_dict_kmeans_plus_3 = {}\n",
    "\n",
    "for subset in num_subsets:\n",
    "    prototype_train_data = torch.load(f\"mnist_centroids/mnist_kmeans_plus_centroids_{subset}.pth\", weights_only=False)\n",
    "    prototype_train_labels = torch.tensor(torch.load(f\"mnist_centroids/mnist_kmeans_plus_cluster_labels_{subset}.pth\", weights_only=False))\n",
    "    accuracy = compute_accuracy(test_data, prototype_train_data, prototype_train_labels, k=3)\n",
    "    accuracy_dict_kmeans_plus_3[subset] = [accuracy]"
   ]
  },
  {
   "cell_type": "markdown",
   "metadata": {},
   "source": [
    "## 5 Nearest Neigbors"
   ]
  },
  {
   "cell_type": "markdown",
   "metadata": {},
   "source": [
    "### Random Selection"
   ]
  },
  {
   "cell_type": "code",
   "execution_count": 31,
   "metadata": {},
   "outputs": [
    {
     "name": "stdout",
     "output_type": "stream",
     "text": [
      "Computing full distance matrix...\n",
      "k-NN accuracy on full test set (no batching): 0.9495\n",
      "Computing full distance matrix...\n",
      "k-NN accuracy on full test set (no batching): 0.9493\n",
      "Computing full distance matrix...\n",
      "k-NN accuracy on full test set (no batching): 0.9458\n",
      "Computing full distance matrix...\n",
      "k-NN accuracy on full test set (no batching): 0.9483\n",
      "Computing full distance matrix...\n",
      "k-NN accuracy on full test set (no batching): 0.9504\n",
      "Computing full distance matrix...\n",
      "k-NN accuracy on full test set (no batching): 0.9468\n",
      "Computing full distance matrix...\n",
      "k-NN accuracy on full test set (no batching): 0.9479\n",
      "Computing full distance matrix...\n",
      "k-NN accuracy on full test set (no batching): 0.9490\n",
      "Computing full distance matrix...\n",
      "k-NN accuracy on full test set (no batching): 0.9469\n",
      "Computing full distance matrix...\n",
      "k-NN accuracy on full test set (no batching): 0.9489\n",
      "Computing full distance matrix...\n",
      "k-NN accuracy on full test set (no batching): 0.9495\n",
      "Computing full distance matrix...\n",
      "k-NN accuracy on full test set (no batching): 0.9516\n",
      "Computing full distance matrix...\n",
      "k-NN accuracy on full test set (no batching): 0.9475\n",
      "Computing full distance matrix...\n",
      "k-NN accuracy on full test set (no batching): 0.9486\n",
      "Computing full distance matrix...\n",
      "k-NN accuracy on full test set (no batching): 0.9461\n",
      "Computing full distance matrix...\n",
      "k-NN accuracy on full test set (no batching): 0.9489\n",
      "Computing full distance matrix...\n",
      "k-NN accuracy on full test set (no batching): 0.9492\n",
      "Computing full distance matrix...\n",
      "k-NN accuracy on full test set (no batching): 0.9486\n",
      "Computing full distance matrix...\n",
      "k-NN accuracy on full test set (no batching): 0.9490\n",
      "Computing full distance matrix...\n",
      "k-NN accuracy on full test set (no batching): 0.9508\n",
      "Computing full distance matrix...\n",
      "k-NN accuracy on full test set (no batching): 0.9494\n",
      "Computing full distance matrix...\n",
      "k-NN accuracy on full test set (no batching): 0.9505\n",
      "Computing full distance matrix...\n",
      "k-NN accuracy on full test set (no batching): 0.9492\n",
      "Computing full distance matrix...\n",
      "k-NN accuracy on full test set (no batching): 0.9467\n",
      "Computing full distance matrix...\n",
      "k-NN accuracy on full test set (no batching): 0.9522\n",
      "Computing full distance matrix...\n",
      "k-NN accuracy on full test set (no batching): 0.9472\n",
      "Computing full distance matrix...\n",
      "k-NN accuracy on full test set (no batching): 0.9482\n",
      "Computing full distance matrix...\n",
      "k-NN accuracy on full test set (no batching): 0.9514\n",
      "Computing full distance matrix...\n",
      "k-NN accuracy on full test set (no batching): 0.9475\n",
      "Computing full distance matrix...\n",
      "k-NN accuracy on full test set (no batching): 0.9459\n",
      "Computing full distance matrix...\n",
      "k-NN accuracy on full test set (no batching): 0.9328\n",
      "Computing full distance matrix...\n",
      "k-NN accuracy on full test set (no batching): 0.9344\n",
      "Computing full distance matrix...\n",
      "k-NN accuracy on full test set (no batching): 0.9356\n",
      "Computing full distance matrix...\n",
      "k-NN accuracy on full test set (no batching): 0.9337\n",
      "Computing full distance matrix...\n",
      "k-NN accuracy on full test set (no batching): 0.9343\n",
      "Computing full distance matrix...\n",
      "k-NN accuracy on full test set (no batching): 0.9302\n",
      "Computing full distance matrix...\n",
      "k-NN accuracy on full test set (no batching): 0.9366\n",
      "Computing full distance matrix...\n",
      "k-NN accuracy on full test set (no batching): 0.9392\n",
      "Computing full distance matrix...\n",
      "k-NN accuracy on full test set (no batching): 0.9347\n",
      "Computing full distance matrix...\n",
      "k-NN accuracy on full test set (no batching): 0.9349\n",
      "Computing full distance matrix...\n",
      "k-NN accuracy on full test set (no batching): 0.9321\n",
      "Computing full distance matrix...\n",
      "k-NN accuracy on full test set (no batching): 0.9331\n",
      "Computing full distance matrix...\n",
      "k-NN accuracy on full test set (no batching): 0.9344\n",
      "Computing full distance matrix...\n",
      "k-NN accuracy on full test set (no batching): 0.9315\n",
      "Computing full distance matrix...\n",
      "k-NN accuracy on full test set (no batching): 0.9369\n",
      "Computing full distance matrix...\n",
      "k-NN accuracy on full test set (no batching): 0.9326\n",
      "Computing full distance matrix...\n",
      "k-NN accuracy on full test set (no batching): 0.9365\n",
      "Computing full distance matrix...\n",
      "k-NN accuracy on full test set (no batching): 0.9320\n",
      "Computing full distance matrix...\n",
      "k-NN accuracy on full test set (no batching): 0.9329\n",
      "Computing full distance matrix...\n",
      "k-NN accuracy on full test set (no batching): 0.9364\n",
      "Computing full distance matrix...\n",
      "k-NN accuracy on full test set (no batching): 0.9348\n",
      "Computing full distance matrix...\n",
      "k-NN accuracy on full test set (no batching): 0.9347\n",
      "Computing full distance matrix...\n",
      "k-NN accuracy on full test set (no batching): 0.9337\n",
      "Computing full distance matrix...\n",
      "k-NN accuracy on full test set (no batching): 0.9315\n",
      "Computing full distance matrix...\n",
      "k-NN accuracy on full test set (no batching): 0.9370\n",
      "Computing full distance matrix...\n",
      "k-NN accuracy on full test set (no batching): 0.9339\n",
      "Computing full distance matrix...\n",
      "k-NN accuracy on full test set (no batching): 0.9363\n",
      "Computing full distance matrix...\n",
      "k-NN accuracy on full test set (no batching): 0.9346\n",
      "Computing full distance matrix...\n",
      "k-NN accuracy on full test set (no batching): 0.9365\n",
      "Computing full distance matrix...\n",
      "k-NN accuracy on full test set (no batching): 0.9339\n",
      "Computing full distance matrix...\n",
      "k-NN accuracy on full test set (no batching): 0.8730\n",
      "Computing full distance matrix...\n",
      "k-NN accuracy on full test set (no batching): 0.8734\n",
      "Computing full distance matrix...\n",
      "k-NN accuracy on full test set (no batching): 0.8859\n",
      "Computing full distance matrix...\n",
      "k-NN accuracy on full test set (no batching): 0.8747\n",
      "Computing full distance matrix...\n",
      "k-NN accuracy on full test set (no batching): 0.8770\n",
      "Computing full distance matrix...\n",
      "k-NN accuracy on full test set (no batching): 0.8788\n",
      "Computing full distance matrix...\n",
      "k-NN accuracy on full test set (no batching): 0.8794\n",
      "Computing full distance matrix...\n",
      "k-NN accuracy on full test set (no batching): 0.8770\n",
      "Computing full distance matrix...\n",
      "k-NN accuracy on full test set (no batching): 0.8809\n",
      "Computing full distance matrix...\n",
      "k-NN accuracy on full test set (no batching): 0.8733\n",
      "Computing full distance matrix...\n",
      "k-NN accuracy on full test set (no batching): 0.8763\n",
      "Computing full distance matrix...\n",
      "k-NN accuracy on full test set (no batching): 0.8848\n",
      "Computing full distance matrix...\n",
      "k-NN accuracy on full test set (no batching): 0.8764\n",
      "Computing full distance matrix...\n",
      "k-NN accuracy on full test set (no batching): 0.8811\n",
      "Computing full distance matrix...\n",
      "k-NN accuracy on full test set (no batching): 0.8831\n",
      "Computing full distance matrix...\n",
      "k-NN accuracy on full test set (no batching): 0.8776\n",
      "Computing full distance matrix...\n",
      "k-NN accuracy on full test set (no batching): 0.8807\n",
      "Computing full distance matrix...\n",
      "k-NN accuracy on full test set (no batching): 0.8808\n",
      "Computing full distance matrix...\n",
      "k-NN accuracy on full test set (no batching): 0.8774\n",
      "Computing full distance matrix...\n",
      "k-NN accuracy on full test set (no batching): 0.8773\n",
      "Computing full distance matrix...\n",
      "k-NN accuracy on full test set (no batching): 0.8785\n",
      "Computing full distance matrix...\n",
      "k-NN accuracy on full test set (no batching): 0.8736\n",
      "Computing full distance matrix...\n",
      "k-NN accuracy on full test set (no batching): 0.8752\n",
      "Computing full distance matrix...\n",
      "k-NN accuracy on full test set (no batching): 0.8778\n",
      "Computing full distance matrix...\n",
      "k-NN accuracy on full test set (no batching): 0.8727\n",
      "Computing full distance matrix...\n",
      "k-NN accuracy on full test set (no batching): 0.8841\n",
      "Computing full distance matrix...\n",
      "k-NN accuracy on full test set (no batching): 0.8817\n",
      "Computing full distance matrix...\n",
      "k-NN accuracy on full test set (no batching): 0.8798\n",
      "Computing full distance matrix...\n",
      "k-NN accuracy on full test set (no batching): 0.8758\n",
      "Computing full distance matrix...\n",
      "k-NN accuracy on full test set (no batching): 0.8809\n"
     ]
    }
   ],
   "source": [
    "accuracy_dict_5 = {}\n",
    "for subset in num_subsets:\n",
    "    accuracy_list = []\n",
    "    for _ in range(30):\n",
    "        random_indicies = torch.randperm(train_data.shape[0])[:subset]\n",
    "        prototype_train_data = train_data[random_indicies]\n",
    "        prototype_train_labels = train_labels[random_indicies]\n",
    "        accuracy = compute_accuracy(test_data, prototype_train_data, prototype_train_labels, k=5)\n",
    "        accuracy_list.append(accuracy)\n",
    "    accuracy_dict_5[subset] = accuracy_list"
   ]
  },
  {
   "cell_type": "code",
   "execution_count": 32,
   "metadata": {},
   "outputs": [
    {
     "data": {
      "text/plain": [
       "(10000    0.948693\n",
       " 5000     0.934390\n",
       " 1000     0.878300\n",
       " dtype: float64,\n",
       " 10000    0.001676\n",
       " 5000     0.002001\n",
       " 1000     0.003612\n",
       " dtype: float64)"
      ]
     },
     "execution_count": 32,
     "metadata": {},
     "output_type": "execute_result"
    }
   ],
   "source": [
    "accuracy_df_5 = pd.DataFrame(accuracy_dict_5)\n",
    "accuracy_df_5.mean(), accuracy_df_5.std(ddof=1)"
   ]
  },
  {
   "cell_type": "markdown",
   "metadata": {},
   "source": [
    "### K Means"
   ]
  },
  {
   "cell_type": "code",
   "execution_count": 33,
   "metadata": {},
   "outputs": [
    {
     "name": "stdout",
     "output_type": "stream",
     "text": [
      "Computing full distance matrix...\n",
      "k-NN accuracy on full test set (no batching): 0.9621\n",
      "Computing full distance matrix...\n",
      "k-NN accuracy on full test set (no batching): 0.9590\n",
      "Computing full distance matrix...\n",
      "k-NN accuracy on full test set (no batching): 0.9388\n"
     ]
    }
   ],
   "source": [
    "accuracy_dict_kmeans_5 = {}\n",
    "\n",
    "for subset in num_subsets:\n",
    "    prototype_train_data = torch.load(f\"mnist_centroids/mnist_kmeans_centroids_{subset}.pth\", weights_only=False)\n",
    "    prototype_train_labels = torch.tensor(torch.load(f\"mnist_centroids/mnist_kmeans_cluster_labels_{subset}.pth\", weights_only=False))\n",
    "    accuracy = compute_accuracy(test_data, prototype_train_data, prototype_train_labels, k=5)\n",
    "    accuracy_dict_kmeans_5[subset] = [accuracy]"
   ]
  },
  {
   "cell_type": "markdown",
   "metadata": {},
   "source": [
    "### K Means++"
   ]
  },
  {
   "cell_type": "code",
   "execution_count": 34,
   "metadata": {},
   "outputs": [
    {
     "name": "stdout",
     "output_type": "stream",
     "text": [
      "Computing full distance matrix...\n",
      "k-NN accuracy on full test set (no batching): 0.9644\n",
      "Computing full distance matrix...\n",
      "k-NN accuracy on full test set (no batching): 0.9611\n",
      "Computing full distance matrix...\n",
      "k-NN accuracy on full test set (no batching): 0.9423\n"
     ]
    }
   ],
   "source": [
    "accuracy_dict_kmeans_plus_5 = {}\n",
    "\n",
    "for subset in num_subsets:\n",
    "    prototype_train_data = torch.load(f\"mnist_centroids/mnist_kmeans_plus_centroids_{subset}.pth\", weights_only=False)\n",
    "    prototype_train_labels = torch.tensor(torch.load(f\"mnist_centroids/mnist_kmeans_plus_cluster_labels_{subset}.pth\", weights_only=False))\n",
    "    accuracy = compute_accuracy(test_data, prototype_train_data, prototype_train_labels, k=5)\n",
    "    accuracy_dict_kmeans_plus_5[subset] = [accuracy]"
   ]
  },
  {
   "cell_type": "markdown",
   "metadata": {},
   "source": [
    "## 10 Nearest Neighbors"
   ]
  },
  {
   "cell_type": "markdown",
   "metadata": {},
   "source": [
    "### Random Selection"
   ]
  },
  {
   "cell_type": "code",
   "execution_count": 35,
   "metadata": {},
   "outputs": [
    {
     "name": "stdout",
     "output_type": "stream",
     "text": [
      "Computing full distance matrix...\n",
      "k-NN accuracy on full test set (no batching): 0.9452\n",
      "Computing full distance matrix...\n",
      "k-NN accuracy on full test set (no batching): 0.9412\n",
      "Computing full distance matrix...\n",
      "k-NN accuracy on full test set (no batching): 0.9439\n",
      "Computing full distance matrix...\n",
      "k-NN accuracy on full test set (no batching): 0.9431\n",
      "Computing full distance matrix...\n",
      "k-NN accuracy on full test set (no batching): 0.9444\n",
      "Computing full distance matrix...\n",
      "k-NN accuracy on full test set (no batching): 0.9446\n",
      "Computing full distance matrix...\n",
      "k-NN accuracy on full test set (no batching): 0.9419\n",
      "Computing full distance matrix...\n",
      "k-NN accuracy on full test set (no batching): 0.9450\n",
      "Computing full distance matrix...\n",
      "k-NN accuracy on full test set (no batching): 0.9435\n",
      "Computing full distance matrix...\n",
      "k-NN accuracy on full test set (no batching): 0.9453\n",
      "Computing full distance matrix...\n",
      "k-NN accuracy on full test set (no batching): 0.9444\n",
      "Computing full distance matrix...\n",
      "k-NN accuracy on full test set (no batching): 0.9458\n",
      "Computing full distance matrix...\n",
      "k-NN accuracy on full test set (no batching): 0.9448\n",
      "Computing full distance matrix...\n",
      "k-NN accuracy on full test set (no batching): 0.9425\n",
      "Computing full distance matrix...\n",
      "k-NN accuracy on full test set (no batching): 0.9426\n",
      "Computing full distance matrix...\n",
      "k-NN accuracy on full test set (no batching): 0.9404\n",
      "Computing full distance matrix...\n",
      "k-NN accuracy on full test set (no batching): 0.9438\n",
      "Computing full distance matrix...\n",
      "k-NN accuracy on full test set (no batching): 0.9416\n",
      "Computing full distance matrix...\n",
      "k-NN accuracy on full test set (no batching): 0.9446\n",
      "Computing full distance matrix...\n",
      "k-NN accuracy on full test set (no batching): 0.9420\n",
      "Computing full distance matrix...\n",
      "k-NN accuracy on full test set (no batching): 0.9432\n",
      "Computing full distance matrix...\n",
      "k-NN accuracy on full test set (no batching): 0.9437\n",
      "Computing full distance matrix...\n",
      "k-NN accuracy on full test set (no batching): 0.9437\n",
      "Computing full distance matrix...\n",
      "k-NN accuracy on full test set (no batching): 0.9434\n",
      "Computing full distance matrix...\n",
      "k-NN accuracy on full test set (no batching): 0.9420\n",
      "Computing full distance matrix...\n",
      "k-NN accuracy on full test set (no batching): 0.9450\n",
      "Computing full distance matrix...\n",
      "k-NN accuracy on full test set (no batching): 0.9429\n",
      "Computing full distance matrix...\n",
      "k-NN accuracy on full test set (no batching): 0.9449\n",
      "Computing full distance matrix...\n",
      "k-NN accuracy on full test set (no batching): 0.9430\n",
      "Computing full distance matrix...\n",
      "k-NN accuracy on full test set (no batching): 0.9444\n",
      "Computing full distance matrix...\n",
      "k-NN accuracy on full test set (no batching): 0.9266\n",
      "Computing full distance matrix...\n",
      "k-NN accuracy on full test set (no batching): 0.9259\n",
      "Computing full distance matrix...\n",
      "k-NN accuracy on full test set (no batching): 0.9291\n",
      "Computing full distance matrix...\n",
      "k-NN accuracy on full test set (no batching): 0.9312\n",
      "Computing full distance matrix...\n",
      "k-NN accuracy on full test set (no batching): 0.9266\n",
      "Computing full distance matrix...\n",
      "k-NN accuracy on full test set (no batching): 0.9291\n",
      "Computing full distance matrix...\n",
      "k-NN accuracy on full test set (no batching): 0.9295\n",
      "Computing full distance matrix...\n",
      "k-NN accuracy on full test set (no batching): 0.9298\n",
      "Computing full distance matrix...\n",
      "k-NN accuracy on full test set (no batching): 0.9312\n",
      "Computing full distance matrix...\n",
      "k-NN accuracy on full test set (no batching): 0.9285\n",
      "Computing full distance matrix...\n",
      "k-NN accuracy on full test set (no batching): 0.9280\n",
      "Computing full distance matrix...\n",
      "k-NN accuracy on full test set (no batching): 0.9295\n",
      "Computing full distance matrix...\n",
      "k-NN accuracy on full test set (no batching): 0.9292\n",
      "Computing full distance matrix...\n",
      "k-NN accuracy on full test set (no batching): 0.9305\n",
      "Computing full distance matrix...\n",
      "k-NN accuracy on full test set (no batching): 0.9290\n",
      "Computing full distance matrix...\n",
      "k-NN accuracy on full test set (no batching): 0.9266\n",
      "Computing full distance matrix...\n",
      "k-NN accuracy on full test set (no batching): 0.9269\n",
      "Computing full distance matrix...\n",
      "k-NN accuracy on full test set (no batching): 0.9312\n",
      "Computing full distance matrix...\n",
      "k-NN accuracy on full test set (no batching): 0.9249\n",
      "Computing full distance matrix...\n",
      "k-NN accuracy on full test set (no batching): 0.9273\n",
      "Computing full distance matrix...\n",
      "k-NN accuracy on full test set (no batching): 0.9259\n",
      "Computing full distance matrix...\n",
      "k-NN accuracy on full test set (no batching): 0.9304\n",
      "Computing full distance matrix...\n",
      "k-NN accuracy on full test set (no batching): 0.9282\n",
      "Computing full distance matrix...\n",
      "k-NN accuracy on full test set (no batching): 0.9277\n",
      "Computing full distance matrix...\n",
      "k-NN accuracy on full test set (no batching): 0.9311\n",
      "Computing full distance matrix...\n",
      "k-NN accuracy on full test set (no batching): 0.9310\n",
      "Computing full distance matrix...\n",
      "k-NN accuracy on full test set (no batching): 0.9286\n",
      "Computing full distance matrix...\n",
      "k-NN accuracy on full test set (no batching): 0.9289\n",
      "Computing full distance matrix...\n",
      "k-NN accuracy on full test set (no batching): 0.9272\n",
      "Computing full distance matrix...\n",
      "k-NN accuracy on full test set (no batching): 0.9240\n",
      "Computing full distance matrix...\n",
      "k-NN accuracy on full test set (no batching): 0.8653\n",
      "Computing full distance matrix...\n",
      "k-NN accuracy on full test set (no batching): 0.8631\n",
      "Computing full distance matrix...\n",
      "k-NN accuracy on full test set (no batching): 0.8589\n",
      "Computing full distance matrix...\n",
      "k-NN accuracy on full test set (no batching): 0.8607\n",
      "Computing full distance matrix...\n",
      "k-NN accuracy on full test set (no batching): 0.8625\n",
      "Computing full distance matrix...\n",
      "k-NN accuracy on full test set (no batching): 0.8734\n",
      "Computing full distance matrix...\n",
      "k-NN accuracy on full test set (no batching): 0.8622\n",
      "Computing full distance matrix...\n",
      "k-NN accuracy on full test set (no batching): 0.8760\n",
      "Computing full distance matrix...\n",
      "k-NN accuracy on full test set (no batching): 0.8563\n",
      "Computing full distance matrix...\n",
      "k-NN accuracy on full test set (no batching): 0.8533\n",
      "Computing full distance matrix...\n",
      "k-NN accuracy on full test set (no batching): 0.8672\n",
      "Computing full distance matrix...\n",
      "k-NN accuracy on full test set (no batching): 0.8672\n",
      "Computing full distance matrix...\n",
      "k-NN accuracy on full test set (no batching): 0.8696\n",
      "Computing full distance matrix...\n",
      "k-NN accuracy on full test set (no batching): 0.8636\n",
      "Computing full distance matrix...\n",
      "k-NN accuracy on full test set (no batching): 0.8619\n",
      "Computing full distance matrix...\n",
      "k-NN accuracy on full test set (no batching): 0.8736\n",
      "Computing full distance matrix...\n",
      "k-NN accuracy on full test set (no batching): 0.8637\n",
      "Computing full distance matrix...\n",
      "k-NN accuracy on full test set (no batching): 0.8641\n",
      "Computing full distance matrix...\n",
      "k-NN accuracy on full test set (no batching): 0.8616\n",
      "Computing full distance matrix...\n",
      "k-NN accuracy on full test set (no batching): 0.8693\n",
      "Computing full distance matrix...\n",
      "k-NN accuracy on full test set (no batching): 0.8652\n",
      "Computing full distance matrix...\n",
      "k-NN accuracy on full test set (no batching): 0.8638\n",
      "Computing full distance matrix...\n",
      "k-NN accuracy on full test set (no batching): 0.8621\n",
      "Computing full distance matrix...\n",
      "k-NN accuracy on full test set (no batching): 0.8636\n",
      "Computing full distance matrix...\n",
      "k-NN accuracy on full test set (no batching): 0.8630\n",
      "Computing full distance matrix...\n",
      "k-NN accuracy on full test set (no batching): 0.8668\n",
      "Computing full distance matrix...\n",
      "k-NN accuracy on full test set (no batching): 0.8625\n",
      "Computing full distance matrix...\n",
      "k-NN accuracy on full test set (no batching): 0.8669\n",
      "Computing full distance matrix...\n",
      "k-NN accuracy on full test set (no batching): 0.8603\n",
      "Computing full distance matrix...\n",
      "k-NN accuracy on full test set (no batching): 0.8707\n"
     ]
    }
   ],
   "source": [
    "accuracy_dict_10 = {}\n",
    "for subset in num_subsets:\n",
    "    accuracy_list = []\n",
    "    for _ in range(30):\n",
    "        random_indicies = torch.randperm(train_data.shape[0])[:subset]\n",
    "        prototype_train_data = train_data[random_indicies]\n",
    "        prototype_train_labels = train_labels[random_indicies]\n",
    "        accuracy = compute_accuracy(test_data, prototype_train_data, prototype_train_labels, k=10)\n",
    "        accuracy_list.append(accuracy)\n",
    "    accuracy_dict_10[subset] = accuracy_list"
   ]
  },
  {
   "cell_type": "code",
   "execution_count": 36,
   "metadata": {},
   "outputs": [
    {
     "data": {
      "text/plain": [
       "(10000    0.943560\n",
       " 5000     0.928453\n",
       " 1000     0.864613\n",
       " dtype: float64,\n",
       " 10000    0.001351\n",
       " 5000     0.001965\n",
       " 1000     0.004933\n",
       " dtype: float64)"
      ]
     },
     "execution_count": 36,
     "metadata": {},
     "output_type": "execute_result"
    }
   ],
   "source": [
    "accuracy_df_10 = pd.DataFrame(accuracy_dict_10)\n",
    "accuracy_df_10.mean(), accuracy_df_10.std(ddof=1)"
   ]
  },
  {
   "cell_type": "markdown",
   "metadata": {},
   "source": [
    "### K Means"
   ]
  },
  {
   "cell_type": "code",
   "execution_count": 37,
   "metadata": {},
   "outputs": [
    {
     "name": "stdout",
     "output_type": "stream",
     "text": [
      "Computing full distance matrix...\n",
      "k-NN accuracy on full test set (no batching): 0.9600\n",
      "Computing full distance matrix...\n",
      "k-NN accuracy on full test set (no batching): 0.9557\n",
      "Computing full distance matrix...\n",
      "k-NN accuracy on full test set (no batching): 0.9319\n"
     ]
    }
   ],
   "source": [
    "accuracy_dict_kmeans_10 = {}\n",
    "\n",
    "for subset in num_subsets:\n",
    "    prototype_train_data = torch.load(f\"mnist_centroids/mnist_kmeans_centroids_{subset}.pth\", weights_only=False)\n",
    "    prototype_train_labels = torch.tensor(torch.load(f\"mnist_centroids/mnist_kmeans_cluster_labels_{subset}.pth\", weights_only=False))\n",
    "    accuracy = compute_accuracy(test_data, prototype_train_data, prototype_train_labels, k=10)\n",
    "    accuracy_dict_kmeans_10[subset] = [accuracy]"
   ]
  },
  {
   "cell_type": "markdown",
   "metadata": {},
   "source": [
    "### K Means ++"
   ]
  },
  {
   "cell_type": "code",
   "execution_count": 38,
   "metadata": {},
   "outputs": [
    {
     "name": "stdout",
     "output_type": "stream",
     "text": [
      "Computing full distance matrix...\n",
      "k-NN accuracy on full test set (no batching): 0.9610\n",
      "Computing full distance matrix...\n",
      "k-NN accuracy on full test set (no batching): 0.9594\n",
      "Computing full distance matrix...\n",
      "k-NN accuracy on full test set (no batching): 0.9364\n"
     ]
    }
   ],
   "source": [
    "accuracy_dict_kmeans_plus_10 = {}\n",
    "\n",
    "for subset in num_subsets:\n",
    "    prototype_train_data = torch.load(f\"mnist_centroids/mnist_kmeans_plus_centroids_{subset}.pth\", weights_only=False)\n",
    "    prototype_train_labels = torch.tensor(torch.load(f\"mnist_centroids/mnist_kmeans_plus_cluster_labels_{subset}.pth\", weights_only=False))\n",
    "    accuracy = compute_accuracy(test_data, prototype_train_data, prototype_train_labels, k=10)\n",
    "    accuracy_dict_kmeans_plus_10[subset] = [accuracy]"
   ]
  },
  {
   "cell_type": "markdown",
   "metadata": {},
   "source": [
    "# Full Test with K Means and K Means ++"
   ]
  },
  {
   "cell_type": "markdown",
   "metadata": {},
   "source": [
    "## K Means"
   ]
  },
  {
   "cell_type": "code",
   "execution_count": 61,
   "metadata": {},
   "outputs": [
    {
     "name": "stdout",
     "output_type": "stream",
     "text": [
      "Computing full distance matrix...\n",
      "k-NN accuracy on full test set (no batching): 0.9594\n",
      "Computing full distance matrix...\n",
      "k-NN accuracy on full test set (no batching): 0.9560\n",
      "Computing full distance matrix...\n",
      "k-NN accuracy on full test set (no batching): 0.9408\n",
      "Computing full distance matrix...\n",
      "k-NN accuracy on full test set (no batching): 0.9613\n",
      "Computing full distance matrix...\n",
      "k-NN accuracy on full test set (no batching): 0.9588\n",
      "Computing full distance matrix...\n",
      "k-NN accuracy on full test set (no batching): 0.9395\n",
      "Computing full distance matrix...\n",
      "k-NN accuracy on full test set (no batching): 0.9621\n",
      "Computing full distance matrix...\n",
      "k-NN accuracy on full test set (no batching): 0.9590\n",
      "Computing full distance matrix...\n",
      "k-NN accuracy on full test set (no batching): 0.9388\n",
      "Computing full distance matrix...\n",
      "k-NN accuracy on full test set (no batching): 0.9617\n",
      "Computing full distance matrix...\n",
      "k-NN accuracy on full test set (no batching): 0.9586\n",
      "Computing full distance matrix...\n",
      "k-NN accuracy on full test set (no batching): 0.9353\n",
      "Computing full distance matrix...\n",
      "k-NN accuracy on full test set (no batching): 0.9607\n",
      "Computing full distance matrix...\n",
      "k-NN accuracy on full test set (no batching): 0.9559\n",
      "Computing full distance matrix...\n",
      "k-NN accuracy on full test set (no batching): 0.9327\n",
      "Computing full distance matrix...\n",
      "k-NN accuracy on full test set (no batching): 0.9592\n",
      "Computing full distance matrix...\n",
      "k-NN accuracy on full test set (no batching): 0.9547\n",
      "Computing full distance matrix...\n",
      "k-NN accuracy on full test set (no batching): 0.9294\n",
      "Computing full distance matrix...\n",
      "k-NN accuracy on full test set (no batching): 0.9583\n",
      "Computing full distance matrix...\n",
      "k-NN accuracy on full test set (no batching): 0.9532\n",
      "Computing full distance matrix...\n",
      "k-NN accuracy on full test set (no batching): 0.9263\n",
      "Computing full distance matrix...\n",
      "k-NN accuracy on full test set (no batching): 0.9584\n",
      "Computing full distance matrix...\n",
      "k-NN accuracy on full test set (no batching): 0.9517\n",
      "Computing full distance matrix...\n",
      "k-NN accuracy on full test set (no batching): 0.9239\n",
      "Computing full distance matrix...\n",
      "k-NN accuracy on full test set (no batching): 0.9568\n",
      "Computing full distance matrix...\n",
      "k-NN accuracy on full test set (no batching): 0.9489\n",
      "Computing full distance matrix...\n",
      "k-NN accuracy on full test set (no batching): 0.9216\n",
      "Computing full distance matrix...\n",
      "k-NN accuracy on full test set (no batching): 0.9561\n",
      "Computing full distance matrix...\n",
      "k-NN accuracy on full test set (no batching): 0.9477\n",
      "Computing full distance matrix...\n",
      "k-NN accuracy on full test set (no batching): 0.9194\n",
      "Computing full distance matrix...\n",
      "k-NN accuracy on full test set (no batching): 0.9545\n",
      "Computing full distance matrix...\n",
      "k-NN accuracy on full test set (no batching): 0.9478\n",
      "Computing full distance matrix...\n",
      "k-NN accuracy on full test set (no batching): 0.9153\n",
      "Computing full distance matrix...\n",
      "k-NN accuracy on full test set (no batching): 0.9530\n",
      "Computing full distance matrix...\n",
      "k-NN accuracy on full test set (no batching): 0.9459\n",
      "Computing full distance matrix...\n",
      "k-NN accuracy on full test set (no batching): 0.9134\n",
      "Computing full distance matrix...\n",
      "k-NN accuracy on full test set (no batching): 0.9513\n",
      "Computing full distance matrix...\n",
      "k-NN accuracy on full test set (no batching): 0.9456\n",
      "Computing full distance matrix...\n",
      "k-NN accuracy on full test set (no batching): 0.9110\n",
      "Computing full distance matrix...\n",
      "k-NN accuracy on full test set (no batching): 0.9504\n",
      "Computing full distance matrix...\n",
      "k-NN accuracy on full test set (no batching): 0.9450\n",
      "Computing full distance matrix...\n",
      "k-NN accuracy on full test set (no batching): 0.9080\n",
      "Computing full distance matrix...\n",
      "k-NN accuracy on full test set (no batching): 0.9499\n",
      "Computing full distance matrix...\n",
      "k-NN accuracy on full test set (no batching): 0.9437\n",
      "Computing full distance matrix...\n",
      "k-NN accuracy on full test set (no batching): 0.9043\n"
     ]
    }
   ],
   "source": [
    "full_accuracy_df_kmeans = pd.DataFrame()\n",
    "\n",
    "num_neighbors = np.arange(1,30,2)\n",
    "\n",
    "for k in num_neighbors:\n",
    "    accuracy_dict_kmean_per_neigbor = {}\n",
    "    for subset in num_subsets:\n",
    "        prototype_train_data = torch.load(f\"mnist_centroids/mnist_kmeans_centroids_{subset}.pth\", weights_only=False)\n",
    "        prototype_train_labels = torch.tensor(torch.load(f\"mnist_centroids/mnist_kmeans_cluster_labels_{subset}.pth\", weights_only=False))\n",
    "        accuracy = compute_accuracy(test_data, prototype_train_data, prototype_train_labels, k)\n",
    "        accuracy_dict_kmean_per_neigbor[subset] = [accuracy]\n",
    "    temp = pd.DataFrame(accuracy_dict_kmean_per_neigbor)\n",
    "    full_accuracy_df_kmeans = pd.concat([full_accuracy_df_kmeans, temp], axis=0)\n",
    "full_accuracy_df_kmeans['k'] = num_neighbors"
   ]
  },
  {
   "cell_type": "code",
   "execution_count": 62,
   "metadata": {},
   "outputs": [
    {
     "data": {
      "image/png": "[encoded data removed]",
      "text/plain": [
       "<Figure size 640x480 with 1 Axes>"
      ]
     },
     "metadata": {},
     "output_type": "display_data"
    }
   ],
   "source": [
    "plt.plot(full_accuracy_df_kmeans['k'], full_accuracy_df_kmeans[1000], label='1000')\n",
    "plt.plot(full_accuracy_df_kmeans['k'], full_accuracy_df_kmeans[5000], label='5000')\n",
    "plt.plot(full_accuracy_df_kmeans['k'], full_accuracy_df_kmeans[10000], label='10000')\n",
    "plt.xlabel('Number of Neighbors')\n",
    "plt.ylabel('Accuracy')\n",
    "plt.title('K Nearest Neighbors vs Accuracy (Base K Means)')\n",
    "plt.legend()\n",
    "plt.show()"
   ]
  },
  {
   "cell_type": "markdown",
   "metadata": {},
   "source": [
    "## K means ++"
   ]
  },
  {
   "cell_type": "code",
   "execution_count": 63,
   "metadata": {},
   "outputs": [
    {
     "name": "stdout",
     "output_type": "stream",
     "text": [
      "Computing full distance matrix...\n",
      "k-NN accuracy on full test set (no batching): 0.9606\n",
      "Computing full distance matrix...\n",
      "k-NN accuracy on full test set (no batching): 0.9583\n",
      "Computing full distance matrix...\n",
      "k-NN accuracy on full test set (no batching): 0.9427\n",
      "Computing full distance matrix...\n",
      "k-NN accuracy on full test set (no batching): 0.9635\n",
      "Computing full distance matrix...\n",
      "k-NN accuracy on full test set (no batching): 0.9581\n",
      "Computing full distance matrix...\n",
      "k-NN accuracy on full test set (no batching): 0.9441\n",
      "Computing full distance matrix...\n",
      "k-NN accuracy on full test set (no batching): 0.9644\n",
      "Computing full distance matrix...\n",
      "k-NN accuracy on full test set (no batching): 0.9611\n",
      "Computing full distance matrix...\n",
      "k-NN accuracy on full test set (no batching): 0.9423\n",
      "Computing full distance matrix...\n",
      "k-NN accuracy on full test set (no batching): 0.9627\n",
      "Computing full distance matrix...\n",
      "k-NN accuracy on full test set (no batching): 0.9597\n",
      "Computing full distance matrix...\n",
      "k-NN accuracy on full test set (no batching): 0.9416\n",
      "Computing full distance matrix...\n",
      "k-NN accuracy on full test set (no batching): 0.9611\n",
      "Computing full distance matrix...\n",
      "k-NN accuracy on full test set (no batching): 0.9604\n",
      "Computing full distance matrix...\n",
      "k-NN accuracy on full test set (no batching): 0.9370\n",
      "Computing full distance matrix...\n",
      "k-NN accuracy on full test set (no batching): 0.9606\n",
      "Computing full distance matrix...\n",
      "k-NN accuracy on full test set (no batching): 0.9590\n",
      "Computing full distance matrix...\n",
      "k-NN accuracy on full test set (no batching): 0.9324\n",
      "Computing full distance matrix...\n",
      "k-NN accuracy on full test set (no batching): 0.9599\n",
      "Computing full distance matrix...\n",
      "k-NN accuracy on full test set (no batching): 0.9582\n",
      "Computing full distance matrix...\n",
      "k-NN accuracy on full test set (no batching): 0.9297\n",
      "Computing full distance matrix...\n",
      "k-NN accuracy on full test set (no batching): 0.9587\n",
      "Computing full distance matrix...\n",
      "k-NN accuracy on full test set (no batching): 0.9558\n",
      "Computing full distance matrix...\n",
      "k-NN accuracy on full test set (no batching): 0.9282\n",
      "Computing full distance matrix...\n",
      "k-NN accuracy on full test set (no batching): 0.9582\n",
      "Computing full distance matrix...\n",
      "k-NN accuracy on full test set (no batching): 0.9544\n",
      "Computing full distance matrix...\n",
      "k-NN accuracy on full test set (no batching): 0.9258\n",
      "Computing full distance matrix...\n",
      "k-NN accuracy on full test set (no batching): 0.9570\n",
      "Computing full distance matrix...\n",
      "k-NN accuracy on full test set (no batching): 0.9532\n",
      "Computing full distance matrix...\n",
      "k-NN accuracy on full test set (no batching): 0.9223\n",
      "Computing full distance matrix...\n",
      "k-NN accuracy on full test set (no batching): 0.9560\n",
      "Computing full distance matrix...\n",
      "k-NN accuracy on full test set (no batching): 0.9521\n",
      "Computing full distance matrix...\n",
      "k-NN accuracy on full test set (no batching): 0.9185\n",
      "Computing full distance matrix...\n",
      "k-NN accuracy on full test set (no batching): 0.9553\n",
      "Computing full distance matrix...\n",
      "k-NN accuracy on full test set (no batching): 0.9505\n",
      "Computing full distance matrix...\n",
      "k-NN accuracy on full test set (no batching): 0.9178\n",
      "Computing full distance matrix...\n",
      "k-NN accuracy on full test set (no batching): 0.9548\n",
      "Computing full distance matrix...\n",
      "k-NN accuracy on full test set (no batching): 0.9497\n",
      "Computing full distance matrix...\n",
      "k-NN accuracy on full test set (no batching): 0.9146\n",
      "Computing full distance matrix...\n",
      "k-NN accuracy on full test set (no batching): 0.9534\n",
      "Computing full distance matrix...\n",
      "k-NN accuracy on full test set (no batching): 0.9486\n",
      "Computing full distance matrix...\n",
      "k-NN accuracy on full test set (no batching): 0.9119\n",
      "Computing full distance matrix...\n",
      "k-NN accuracy on full test set (no batching): 0.9530\n",
      "Computing full distance matrix...\n",
      "k-NN accuracy on full test set (no batching): 0.9471\n",
      "Computing full distance matrix...\n",
      "k-NN accuracy on full test set (no batching): 0.9095\n"
     ]
    }
   ],
   "source": [
    "full_accuracy_df_kmeans_plus = pd.DataFrame()\n",
    "\n",
    "num_neighbors = np.arange(1,30,2)\n",
    "\n",
    "for k in num_neighbors:\n",
    "    accuracy_dict_kmean_per_neigbor = {}\n",
    "    for subset in num_subsets:\n",
    "        prototype_train_data = torch.load(f\"mnist_centroids/mnist_kmeans_plus_centroids_{subset}.pth\", weights_only=False)\n",
    "        prototype_train_labels = torch.tensor(torch.load(f\"mnist_centroids/mnist_kmeans_plus_cluster_labels_{subset}.pth\", weights_only=False))\n",
    "        accuracy = compute_accuracy(test_data, prototype_train_data, prototype_train_labels, k)\n",
    "        accuracy_dict_kmean_per_neigbor[subset] = [accuracy]\n",
    "    temp = pd.DataFrame(accuracy_dict_kmean_per_neigbor)\n",
    "    full_accuracy_df_kmeans_plus = pd.concat([full_accuracy_df_kmeans_plus, temp], axis=0)\n",
    "full_accuracy_df_kmeans_plus['k'] = num_neighbors"
   ]
  },
  {
   "cell_type": "code",
   "execution_count": 64,
   "metadata": {},
   "outputs": [
    {
     "data": {
      "image/png": "[encoded data removed]",
      "text/plain": [
       "<Figure size 640x480 with 1 Axes>"
      ]
     },
     "metadata": {},
     "output_type": "display_data"
    }
   ],
   "source": [
    "plt.plot(full_accuracy_df_kmeans_plus['k'], full_accuracy_df_kmeans_plus[1000], label='1000')\n",
    "plt.plot(full_accuracy_df_kmeans_plus['k'], full_accuracy_df_kmeans_plus[5000], label='5000')\n",
    "plt.plot(full_accuracy_df_kmeans_plus['k'], full_accuracy_df_kmeans_plus[10000], label='10000')\n",
    "plt.xlabel('Number of Neighbors')\n",
    "plt.ylabel('Accuracy')\n",
    "plt.title('K Nearest Neighbors vs Accuracy (K Means++)')\n",
    "plt.legend()\n",
    "plt.show()"
   ]
  }
 ],
 "metadata": {
  "kernelspec": {
   "display_name": "base",
   "language": "python",
   "name": "python3"
  },
  "language_info": {
   "codemirror_mode": {
    "name": "ipython",
    "version": 3
   },
   "file_extension": ".py",
   "mimetype": "text/x-python",
   "name": "python",
   "nbconvert_exporter": "python",
   "pygments_lexer": "ipython3",
   "version": "3.11.9"
  }
 },
 "nbformat": 4,
 "nbformat_minor": 2
}
